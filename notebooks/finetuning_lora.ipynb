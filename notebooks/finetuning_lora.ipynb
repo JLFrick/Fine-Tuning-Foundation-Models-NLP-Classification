{
 "cells":[
  {
   "cell_type":"markdown",
   "source":[
    "---\n",
    "# Title: Fine-Tuning GPT-2 with LoRA for IMDb Sentiment Classification\n",
    "---"
   ],
   "attachments":{},
   "metadata":{
    "datalore":{
     "node_id":"7xQV9O0CRANaoM6d42qLQ4",
     "type":"MD",
     "hide_input_from_viewers":false,
     "hide_output_from_viewers":false,
     "report_properties":{
      "rowId":"WLSSpHZaUcp8VCw6l5FiyD"
     }
    }
   }
  },
  {
   "cell_type":"markdown",
   "source":[
    "## Introduction\n",
    "This notebook demonstrates how to fine-tune a GPT-2 model using Low-Rank Adaptation (LoRA) for sentiment classification on the IMDb dataset, distinguishing positive and negative movie reviews.\n",
    "\n",
    "**Overview:**\n",
    "1. Load and evaluate the baseline GPT-2 model\n",
    "2. Apply LoRA for parameter-efficient fine-tuning\n",
    "3. Save the fine-tuned model into a structured folder for easy access\n",
    "4. Evaluate the fine-tuned model and compare it to the baseline\n",
    "\n",
    "**Key Details:**\n",
    "- PEFT Technique: LoRA reduces computational overhead by introducing trainable low-rank matrices into specific model layers, keeping most parameters frozen.\n",
    "- Model: GPT-2, originally designed for language generation, is adapted for sequence classification with a classification head.\n",
    "- Evaluation Approach: Accuracy is used to compare the baseline and fine-tuned models on the test set.\n",
    "- Dataset: The IMDb dataset includes 25,000 training and 25,000 test movie reviews labeled as positive (1) or negative (0)."
   ],
   "attachments":{},
   "metadata":{
    "datalore":{
     "node_id":"U1epRZ2yQtec3vAXuqA7Ri",
     "type":"MD",
     "hide_input_from_viewers":false,
     "hide_output_from_viewers":false,
     "report_properties":{
      "rowId":"i6TGcMPGN3j1584FVc0qGv"
     }
    }
   }
  },
  {
   "cell_type":"markdown",
   "source":[
    "## Attribution\n",
    "I want to attribute parts of this code to the examples I have worked through and done in this course so far."
   ],
   "attachments":{},
   "metadata":{
    "datalore":{
     "node_id":"Z6bjxOgVa3xBcgkkg488fl",
     "type":"MD",
     "hide_input_from_viewers":false,
     "hide_output_from_viewers":false,
     "report_properties":{
      "rowId":"fMjgTsYed2TN83pasTdax1"
     }
    }
   }
  },
  {
   "cell_type":"markdown",
   "source":[
    "---\n",
    "### Importing Libraries\n",
    "---"
   ],
   "attachments":{},
   "metadata":{
    "datalore":{
     "node_id":"gg7oluHCFQE8QadZdrroHz",
     "type":"MD",
     "hide_input_from_viewers":false,
     "hide_output_from_viewers":false,
     "report_properties":{
      "rowId":"x160tNxrzWY6tmL3uUzwIX"
     }
    }
   }
  },
  {
   "cell_type":"code",
   "source":[
    "!pip install transformers datasets peft scikit-learn torch evaluate\n",
    "!pip install --upgrade datasets"
   ],
   "execution_count":1,
   "outputs":[
    {
     "name":"stdout",
     "text":[
      "Requirement already satisfied: transformers in \/opt\/python\/envs\/default\/lib\/python3.8\/site-packages (4.29.1)\r\n",
      "Collecting datasets\r\n",
      "  Downloading datasets-3.1.0-py3-none-any.whl (480 kB)\r\n",
      "\u001b[?25l     \u001b[90m━━━━━━━━━━━━━━━━━━━━━━━━━━━━━━━━━━━━━━━━\u001b[0m \u001b[32m0.0\/480.6 kB\u001b[0m \u001b[31m?\u001b[0m eta \u001b[36m-:--:--\u001b[0m\r\u001b[2K     \u001b[90m━━━━━━━━━━━━━━━━━━━━━━━━━━━━━━━━━━━━━━\u001b[0m \u001b[32m480.6\/480.6 kB\u001b[0m \u001b[31m44.4 MB\/s\u001b[0m eta \u001b[36m0:00:00\u001b[0m\r\n",
      "\u001b[?25hCollecting peft\r\n",
      "  Downloading peft-0.13.2-py3-none-any.whl (320 kB)\r\n",
      "\u001b[?25l     \u001b[90m━━━━━━━━━━━━━━━━━━━━━━━━━━━━━━━━━━━━━━━━\u001b[0m \u001b[32m0.0\/320.7 kB\u001b[0m \u001b[31m?\u001b[0m eta \u001b[36m-:--:--\u001b[0m\r\u001b[2K     \u001b[90m━━━━━━━━━━━━━━━━━━━━━━━━━━━━━━━━━━━━━━\u001b[0m \u001b[32m320.7\/320.7 kB\u001b[0m \u001b[31m67.5 MB\/s\u001b[0m eta \u001b[36m0:00:00\u001b[0m\r\n",
      "\u001b[?25hRequirement already satisfied: scikit-learn in \/opt\/python\/envs\/default\/lib\/python3.8\/site-packages (1.2.2)\r\n",
      "Requirement already satisfied: torch in \/opt\/python\/envs\/default\/lib\/python3.8\/site-packages (2.0.1+cu117)\r\n",
      "Collecting evaluate\r\n",
      "  Downloading evaluate-0.4.3-py3-none-any.whl (84 kB)\r\n",
      "\u001b[?25l     \u001b[90m━━━━━━━━━━━━━━━━━━━━━━━━━━━━━━━━━━━━━━━━\u001b[0m \u001b[32m0.0\/84.0 kB\u001b[0m \u001b[31m?\u001b[0m eta \u001b[36m-:--:--\u001b[0m\r\u001b[2K     \u001b[90m━━━━━━━━━━━━━━━━━━━━━━━━━━━━━━━━━━━━━━━━\u001b[0m \u001b[32m84.0\/84.0 kB\u001b[0m \u001b[31m27.0 MB\/s\u001b[0m eta \u001b[36m0:00:00\u001b[0m\r\n",
      "\u001b[?25hRequirement already satisfied: filelock in \/opt\/python\/envs\/default\/lib\/python3.8\/site-packages (from transformers) (3.15.4)\r\n",
      "Requirement already satisfied: huggingface-hub<1.0,>=0.14.1 in \/opt\/python\/envs\/default\/lib\/python3.8\/site-packages (from transformers) (0.24.6)\r\n",
      "Requirement already satisfied: numpy>=1.17 in \/opt\/python\/envs\/default\/lib\/python3.8\/site-packages (from transformers) (1.24.3)\r\n",
      "Requirement already satisfied: packaging>=20.0 in \/opt\/python\/envs\/default\/lib\/python3.8\/site-packages (from transformers) (24.1)\r\n",
      "Requirement already satisfied: pyyaml>=5.1 in \/opt\/python\/envs\/default\/lib\/python3.8\/site-packages (from transformers) (6.0.2)\r\n",
      "Requirement already satisfied: regex!=2019.12.17 in \/opt\/python\/envs\/default\/lib\/python3.8\/site-packages (from transformers) (2024.7.24)\r\n",
      "Requirement already satisfied: requests in \/opt\/python\/envs\/default\/lib\/python3.8\/site-packages (from transformers) (2.30.0)\r\n",
      "Requirement already satisfied: tokenizers!=0.11.3,<0.14,>=0.11.1 in \/opt\/python\/envs\/default\/lib\/python3.8\/site-packages (from transformers) (0.13.3)\r\n",
      "Requirement already satisfied: tqdm>=4.27 in \/opt\/python\/envs\/default\/lib\/python3.8\/site-packages (from transformers) (4.66.5)\r\n",
      "Collecting pyarrow>=15.0.0 (from datasets)\r\n",
      "  Downloading pyarrow-17.0.0-cp38-cp38-manylinux_2_28_x86_64.whl (40.0 MB)\r\n",
      "\u001b[?25l     \u001b[90m━━━━━━━━━━━━━━━━━━━━━━━━━━━━━━━━━━━━━━━━\u001b[0m \u001b[32m0.0\/40.0 MB\u001b[0m \u001b[31m?\u001b[0m eta \u001b[36m-:--:--\u001b[0m\r\u001b[2K     \u001b[91m━━━━━\u001b[0m\u001b[91m╸\u001b[0m\u001b[90m━━━━━━━━━━━━━━━━━━━━━━━━━━━━━━━━━━\u001b[0m \u001b[32m5.5\/40.0 MB\u001b[0m \u001b[31m145.1 MB\/s\u001b[0m eta \u001b[36m0:00:01\u001b[0m\r\u001b[2K     \u001b[91m━━━━━━━━━━━\u001b[0m\u001b[91m╸\u001b[0m\u001b[90m━━━━━━━━━━━━━━━━━━━━━━━━━━━\u001b[0m \u001b[32m12.0\/40.0 MB\u001b[0m \u001b[31m167.6 MB\/s\u001b[0m eta \u001b[36m0:00:01\u001b[0m\r\u001b[2K     \u001b[91m━━━━━━━━━━━━━━━━━\u001b[0m\u001b[91m╸\u001b[0m\u001b[90m━━━━━━━━━━━━━━━━━━━━━\u001b[0m \u001b[32m18.3\/40.0 MB\u001b[0m \u001b[31m179.3 MB\/s\u001b[0m eta \u001b[36m0:00:01\u001b[0m\r\u001b[2K     \u001b[91m━━━━━━━━━━━━━━━━━━━━━━━\u001b[0m\u001b[91m╸\u001b[0m\u001b[90m━━━━━━━━━━━━━━━\u001b[0m \u001b[32m24.2\/40.0 MB\u001b[0m \u001b[31m176.3 MB\/s\u001b[0m eta \u001b[36m0:00:01\u001b[0m\r\u001b[2K     \u001b[91m━━━━━━━━━━━━━━━━━━━━━━━━━━━━━━\u001b[0m\u001b[90m╺\u001b[0m\u001b[90m━━━━━━━━\u001b[0m \u001b[32m30.7\/40.0 MB\u001b[0m \u001b[31m176.6 MB\/s\u001b[0m eta \u001b[36m0:00:01\u001b[0m\r\u001b[2K     \u001b[91m━━━━━━━━━━━━━━━━━━━━━━━━━━━━━━━━━━━\u001b[0m\u001b[90m╺\u001b[0m\u001b[90m━━━\u001b[0m \u001b[32m36.2\/40.0 MB\u001b[0m \u001b[31m163.9 MB\/s\u001b[0m eta \u001b[36m0:00:01\u001b[0m\r\u001b[2K     \u001b[91m━━━━━━━━━━━━━━━━━━━━━━━━━━━━━━━━━━━\u001b[0m\u001b[91m╸\u001b[0m\u001b[90m━━━\u001b[0m \u001b[32m36.7\/40.0 MB\u001b[0m \u001b[31m158.5 MB\/s\u001b[0m eta \u001b[36m0:00:01\u001b[0m\r\u001b[2K     \u001b[91m━━━━━━━━━━━━━━━━━━━━━━━━━━━━━━━━━━━━\u001b[0m\u001b[91m╸\u001b[0m\u001b[90m━━━\u001b[0m \u001b[32m36.8\/40.0 MB\u001b[0m \u001b[31m78.6 MB\/s\u001b[0m eta \u001b[36m0:00:01\u001b[0m\r\u001b[2K     \u001b[91m━━━━━━━━━━━━━━━━━━━━━━━━━━━━━━━━━━━━━━━\u001b[0m\u001b[91m╸\u001b[0m \u001b[32m40.0\/40.0 MB\u001b[0m \u001b[31m73.8 MB\/s\u001b[0m eta \u001b[36m0:00:01\u001b[0m\r\u001b[2K     \u001b[91m━━━━━━━━━━━━━━━━━━━━━━━━━━━━━━━━━━━━━━━\u001b[0m\u001b[91m╸\u001b[0m \u001b[32m40.0\/40.0 MB\u001b[0m \u001b[31m73.8 MB\/s\u001b[0m eta \u001b[36m0:00:01\u001b[0m\r\u001b[2K     \u001b[90m━━━━━━━━━━━━━━━━━━━━━━━━━━━━━━━━━━━━━━━━\u001b[0m \u001b[32m40.0\/40.0 MB\u001b[0m \u001b[31m39.4 MB\/s\u001b[0m eta \u001b[36m0:00:00\u001b[0m\r\n",
      "\u001b[?25hCollecting dill<0.3.9,>=0.3.0 (from datasets)\r\n",
      "  Downloading dill-0.3.8-py3-none-any.whl (116 kB)\r\n",
      "\u001b[?25l     \u001b[90m━━━━━━━━━━━━━━━━━━━━━━━━━━━━━━━━━━━━━━━━\u001b[0m \u001b[32m0.0\/116.3 kB\u001b[0m \u001b[31m?\u001b[0m eta \u001b[36m-:--:--\u001b[0m\r\u001b[2K     \u001b[90m━━━━━━━━━━━━━━━━━━━━━━━━━━━━━━━━━━━━━━\u001b[0m \u001b[32m116.3\/116.3 kB\u001b[0m \u001b[31m54.5 MB\/s\u001b[0m eta \u001b[36m0:00:00\u001b[0m\r\n",
      "\u001b[?25hRequirement already satisfied: pandas in \/opt\/python\/envs\/default\/lib\/python3.8\/site-packages (from datasets) (1.5.3)\r\n",
      "Collecting requests (from transformers)\r\n",
      "  Downloading requests-2.32.3-py3-none-any.whl (64 kB)\r\n",
      "\u001b[?25l     \u001b[90m━━━━━━━━━━━━━━━━━━━━━━━━━━━━━━━━━━━━━━━━\u001b[0m \u001b[32m0.0\/64.9 kB\u001b[0m \u001b[31m?\u001b[0m eta \u001b[36m-:--:--\u001b[0m\r\u001b[2K     \u001b[90m━━━━━━━━━━━━━━━━━━━━━━━━━━━━━━━━━━━━━━━━\u001b[0m \u001b[32m64.9\/64.9 kB\u001b[0m \u001b[31m36.1 MB\/s\u001b[0m eta \u001b[36m0:00:00\u001b[0m\r\n",
      "\u001b[?25hCollecting xxhash (from datasets)\r\n",
      "  Downloading xxhash-3.5.0-cp38-cp38-manylinux_2_17_x86_64.manylinux2014_x86_64.whl (194 kB)\r\n",
      "\u001b[?25l     \u001b[90m━━━━━━━━━━━━━━━━━━━━━━━━━━━━━━━━━━━━━━━━\u001b[0m \u001b[32m0.0\/194.6 kB\u001b[0m \u001b[31m?\u001b[0m eta \u001b[36m-:--:--\u001b[0m\r\u001b[2K     \u001b[90m━━━━━━━━━━━━━━━━━━━━━━━━━━━━━━━━━━━━━━\u001b[0m \u001b[32m194.6\/194.6 kB\u001b[0m \u001b[31m77.8 MB\/s\u001b[0m eta \u001b[36m0:00:00\u001b[0m\r\n",
      "\u001b[?25hCollecting multiprocess<0.70.17 (from datasets)\r\n",
      "  Downloading multiprocess-0.70.16-py38-none-any.whl (132 kB)\r\n",
      "\u001b[?25l     \u001b[90m━━━━━━━━━━━━━━━━━━━━━━━━━━━━━━━━━━━━━━━━\u001b[0m \u001b[32m0.0\/132.6 kB\u001b[0m \u001b[31m?\u001b[0m eta \u001b[36m-:--:--\u001b[0m\r\u001b[2K     \u001b[90m━━━━━━━━━━━━━━━━━━━━━━━━━━━━━━━━━━━━━━\u001b[0m \u001b[32m132.6\/132.6 kB\u001b[0m \u001b[31m57.2 MB\/s\u001b[0m eta \u001b[36m0:00:00\u001b[0m\r\n",
      "\u001b[?25hRequirement already satisfied: fsspec[http]<=2024.9.0,>=2023.1.0 in \/opt\/python\/envs\/default\/lib\/python3.8\/site-packages (from datasets) (2024.6.1)\r\n",
      "Requirement already satisfied: aiohttp in \/opt\/python\/envs\/default\/lib\/python3.8\/site-packages (from datasets) (3.8.4)\r\n",
      "Collecting psutil (from peft)\r\n",
      "  Downloading psutil-6.1.1-cp36-abi3-manylinux_2_12_x86_64.manylinux2010_x86_64.manylinux_2_17_x86_64.manylinux2014_x86_64.whl (287 kB)\r\n",
      "\u001b[?25l     \u001b[90m━━━━━━━━━━━━━━━━━━━━━━━━━━━━━━━━━━━━━━━━\u001b[0m \u001b[32m0.0\/287.5 kB\u001b[0m \u001b[31m?\u001b[0m eta \u001b[36m-:--:--\u001b[0m\r\u001b[2K     \u001b[90m━━━━━━━━━━━━━━━━━━━━━━━━━━━━━━━━━━━━━━\u001b[0m \u001b[32m287.5\/287.5 kB\u001b[0m \u001b[31m86.7 MB\/s\u001b[0m eta \u001b[36m0:00:00\u001b[0m\r\n",
      "\u001b[?25hCollecting accelerate>=0.21.0 (from peft)\r\n",
      "  Downloading accelerate-1.0.1-py3-none-any.whl (330 kB)\r\n",
      "\u001b[?25l     \u001b[90m━━━━━━━━━━━━━━━━━━━━━━━━━━━━━━━━━━━━━━━━\u001b[0m \u001b[32m0.0\/330.9 kB\u001b[0m \u001b[31m?\u001b[0m eta \u001b[36m-:--:--\u001b[0m\r\u001b[2K     \u001b[90m━━━━━━━━━━━━━━━━━━━━━━━━━━━━━━━━━━━━━\u001b[0m \u001b[32m330.9\/330.9 kB\u001b[0m \u001b[31m100.6 MB\/s\u001b[0m eta \u001b[36m0:00:00\u001b[0m\r\n",
      "\u001b[?25hCollecting safetensors (from peft)\r\n",
      "  Downloading safetensors-0.5.2-cp38-abi3-manylinux_2_17_x86_64.manylinux2014_x86_64.whl (461 kB)\r\n",
      "\u001b[?25l     \u001b[90m━━━━━━━━━━━━━━━━━━━━━━━━━━━━━━━━━━━━━━━━\u001b[0m \u001b[32m0.0\/462.0 kB\u001b[0m \u001b[31m?\u001b[0m eta \u001b[36m-:--:--\u001b[0m\r\u001b[2K     \u001b[90m━━━━━━━━━━━━━━━━━━━━━━━━━━━━━━━━━━━━━\u001b[0m \u001b[32m462.0\/462.0 kB\u001b[0m \u001b[31m108.7 MB\/s\u001b[0m eta \u001b[36m0:00:00\u001b[0m\r\n",
      "\u001b[?25hRequirement already satisfied: scipy>=1.3.2 in \/opt\/python\/envs\/default\/lib\/python3.8\/site-packages (from scikit-learn) (1.9.1)\r\n",
      "Requirement already satisfied: joblib>=1.1.1 in \/opt\/python\/envs\/default\/lib\/python3.8\/site-packages (from scikit-learn) (1.4.2)\r\n",
      "Requirement already satisfied: threadpoolctl>=2.0.0 in \/opt\/python\/envs\/default\/lib\/python3.8\/site-packages (from scikit-learn) (3.5.0)\r\n",
      "Requirement already satisfied: typing-extensions in \/opt\/python\/envs\/default\/lib\/python3.8\/site-packages (from torch) (4.12.2)\r\n",
      "Requirement already satisfied: sympy in \/opt\/python\/envs\/default\/lib\/python3.8\/site-packages (from torch) (1.12)\r\n",
      "Requirement already satisfied: networkx in \/opt\/python\/envs\/default\/lib\/python3.8\/site-packages (from torch) (3.1)\r\n",
      "Requirement already satisfied: jinja2 in \/opt\/python\/envs\/default\/lib\/python3.8\/site-packages (from torch) (3.1.4)\r\n",
      "Requirement already satisfied: triton==2.0.0 in \/opt\/python\/envs\/default\/lib\/python3.8\/site-packages (from torch) (2.0.0)\r\n",
      "Requirement already satisfied: cmake in \/opt\/python\/envs\/default\/lib\/python3.8\/site-packages (from triton==2.0.0->torch) (3.30.2)\r\n",
      "Requirement already satisfied: lit in \/opt\/python\/envs\/default\/lib\/python3.8\/site-packages (from triton==2.0.0->torch) (18.1.8)\r\n",
      "Requirement already satisfied: attrs>=17.3.0 in \/opt\/python\/envs\/default\/lib\/python3.8\/site-packages (from aiohttp->datasets) (24.2.0)\r\n",
      "Requirement already satisfied: charset-normalizer<4.0,>=2.0 in \/opt\/python\/envs\/default\/lib\/python3.8\/site-packages (from aiohttp->datasets) (3.3.2)\r\n",
      "Requirement already satisfied: multidict<7.0,>=4.5 in \/opt\/python\/envs\/default\/lib\/python3.8\/site-packages (from aiohttp->datasets) (6.0.5)\r\n",
      "Requirement already satisfied: async-timeout<5.0,>=4.0.0a3 in \/opt\/python\/envs\/default\/lib\/python3.8\/site-packages (from aiohttp->datasets) (4.0.3)\r\n",
      "Requirement already satisfied: yarl<2.0,>=1.0 in \/opt\/python\/envs\/default\/lib\/python3.8\/site-packages (from aiohttp->datasets) (1.9.4)\r\n",
      "Requirement already satisfied: frozenlist>=1.1.1 in \/opt\/python\/envs\/default\/lib\/python3.8\/site-packages (from aiohttp->datasets) (1.4.1)\r\n",
      "Requirement already satisfied: aiosignal>=1.1.2 in \/opt\/python\/envs\/default\/lib\/python3.8\/site-packages (from aiohttp->datasets) (1.3.1)\r\n",
      "Requirement already satisfied: idna<4,>=2.5 in \/opt\/python\/envs\/default\/lib\/python3.8\/site-packages (from requests->transformers) (3.8)\r\n",
      "Requirement already satisfied: urllib3<3,>=1.21.1 in \/opt\/python\/envs\/default\/lib\/python3.8\/site-packages (from requests->transformers) (1.26.19)\r\n",
      "Requirement already satisfied: certifi>=2017.4.17 in \/opt\/python\/envs\/default\/lib\/python3.8\/site-packages (from requests->transformers) (2024.7.4)\r\n",
      "Requirement already satisfied: MarkupSafe>=2.0 in \/opt\/python\/envs\/default\/lib\/python3.8\/site-packages (from jinja2->torch) (2.1.5)\r\n",
      "Requirement already satisfied: python-dateutil>=2.8.1 in \/opt\/python\/envs\/default\/lib\/python3.8\/site-packages (from pandas->datasets) (2.9.0.post0)\r\n",
      "Requirement already satisfied: pytz>=2020.1 in \/opt\/python\/envs\/default\/lib\/python3.8\/site-packages (from pandas->datasets) (2024.1)\r\n",
      "Requirement already satisfied: mpmath>=0.19 in \/opt\/python\/envs\/default\/lib\/python3.8\/site-packages (from sympy->torch) (1.3.0)\r\n",
      "Requirement already satisfied: six>=1.5 in \/opt\/python\/envs\/default\/lib\/python3.8\/site-packages (from python-dateutil>=2.8.1->pandas->datasets) (1.16.0)\r\n",
      "Installing collected packages: xxhash, safetensors, requests, pyarrow, psutil, dill, multiprocess, datasets, evaluate, accelerate, peft\r\n",
      "  Attempting uninstall: requests\r\n",
      "    Found existing installation: requests 2.30.0\r\n",
      "    Uninstalling requests-2.30.0:\r\n",
      "      Successfully uninstalled requests-2.30.0\r\n",
      "Successfully installed accelerate-1.0.1 datasets-3.1.0 dill-0.3.8 evaluate-0.4.3 multiprocess-0.70.16 peft-0.13.2 psutil-6.1.1 pyarrow-17.0.0 requests-2.32.3 safetensors-0.5.2 xxhash-3.5.0\r\n",
      "\r\n",
      "\u001b[1m[\u001b[0m\u001b[34;49mnotice\u001b[0m\u001b[1;39;49m]\u001b[0m\u001b[39;49m A new release of pip is available: \u001b[0m\u001b[31;49m23.1.2\u001b[0m\u001b[39;49m -> \u001b[0m\u001b[32;49m25.0\u001b[0m\r\n",
      "\u001b[1m[\u001b[0m\u001b[34;49mnotice\u001b[0m\u001b[1;39;49m]\u001b[0m\u001b[39;49m To update, run: \u001b[0m\u001b[32;49mpip install --upgrade pip\u001b[0m\r\n",
      "Requirement already satisfied: datasets in \/opt\/python\/envs\/default\/lib\/python3.8\/site-packages (3.1.0)\r\n",
      "Requirement already satisfied: filelock in \/opt\/python\/envs\/default\/lib\/python3.8\/site-packages (from datasets) (3.15.4)\r\n",
      "Requirement already satisfied: numpy>=1.17 in \/opt\/python\/envs\/default\/lib\/python3.8\/site-packages (from datasets) (1.24.3)\r\n",
      "Requirement already satisfied: pyarrow>=15.0.0 in \/opt\/python\/envs\/default\/lib\/python3.8\/site-packages (from datasets) (17.0.0)\r\n",
      "Requirement already satisfied: dill<0.3.9,>=0.3.0 in \/opt\/python\/envs\/default\/lib\/python3.8\/site-packages (from datasets) (0.3.8)\r\n",
      "Requirement already satisfied: pandas in \/opt\/python\/envs\/default\/lib\/python3.8\/site-packages (from datasets) (1.5.3)\r\n",
      "Requirement already satisfied: requests>=2.32.2 in \/opt\/python\/envs\/default\/lib\/python3.8\/site-packages (from datasets) (2.32.3)\r\n",
      "Requirement already satisfied: tqdm>=4.66.3 in \/opt\/python\/envs\/default\/lib\/python3.8\/site-packages (from datasets) (4.66.5)\r\n",
      "Requirement already satisfied: xxhash in \/opt\/python\/envs\/default\/lib\/python3.8\/site-packages (from datasets) (3.5.0)\r\n",
      "Requirement already satisfied: multiprocess<0.70.17 in \/opt\/python\/envs\/default\/lib\/python3.8\/site-packages (from datasets) (0.70.16)\r\n",
      "Requirement already satisfied: fsspec[http]<=2024.9.0,>=2023.1.0 in \/opt\/python\/envs\/default\/lib\/python3.8\/site-packages (from datasets) (2024.6.1)\r\n",
      "Requirement already satisfied: aiohttp in \/opt\/python\/envs\/default\/lib\/python3.8\/site-packages (from datasets) (3.8.4)\r\n",
      "Requirement already satisfied: huggingface-hub>=0.23.0 in \/opt\/python\/envs\/default\/lib\/python3.8\/site-packages (from datasets) (0.24.6)\r\n",
      "Requirement already satisfied: packaging in \/opt\/python\/envs\/default\/lib\/python3.8\/site-packages (from datasets) (24.1)\r\n",
      "Requirement already satisfied: pyyaml>=5.1 in \/opt\/python\/envs\/default\/lib\/python3.8\/site-packages (from datasets) (6.0.2)\r\n",
      "Requirement already satisfied: attrs>=17.3.0 in \/opt\/python\/envs\/default\/lib\/python3.8\/site-packages (from aiohttp->datasets) (24.2.0)\r\n",
      "Requirement already satisfied: charset-normalizer<4.0,>=2.0 in \/opt\/python\/envs\/default\/lib\/python3.8\/site-packages (from aiohttp->datasets) (3.3.2)\r\n",
      "Requirement already satisfied: multidict<7.0,>=4.5 in \/opt\/python\/envs\/default\/lib\/python3.8\/site-packages (from aiohttp->datasets) (6.0.5)\r\n",
      "Requirement already satisfied: async-timeout<5.0,>=4.0.0a3 in \/opt\/python\/envs\/default\/lib\/python3.8\/site-packages (from aiohttp->datasets) (4.0.3)\r\n",
      "Requirement already satisfied: yarl<2.0,>=1.0 in \/opt\/python\/envs\/default\/lib\/python3.8\/site-packages (from aiohttp->datasets) (1.9.4)\r\n",
      "Requirement already satisfied: frozenlist>=1.1.1 in \/opt\/python\/envs\/default\/lib\/python3.8\/site-packages (from aiohttp->datasets) (1.4.1)\r\n",
      "Requirement already satisfied: aiosignal>=1.1.2 in \/opt\/python\/envs\/default\/lib\/python3.8\/site-packages (from aiohttp->datasets) (1.3.1)\r\n",
      "Requirement already satisfied: typing-extensions>=3.7.4.3 in \/opt\/python\/envs\/default\/lib\/python3.8\/site-packages (from huggingface-hub>=0.23.0->datasets) (4.12.2)\r\n",
      "Requirement already satisfied: idna<4,>=2.5 in \/opt\/python\/envs\/default\/lib\/python3.8\/site-packages (from requests>=2.32.2->datasets) (3.8)\r\n",
      "Requirement already satisfied: urllib3<3,>=1.21.1 in \/opt\/python\/envs\/default\/lib\/python3.8\/site-packages (from requests>=2.32.2->datasets) (1.26.19)\r\n",
      "Requirement already satisfied: certifi>=2017.4.17 in \/opt\/python\/envs\/default\/lib\/python3.8\/site-packages (from requests>=2.32.2->datasets) (2024.7.4)\r\n",
      "Requirement already satisfied: python-dateutil>=2.8.1 in \/opt\/python\/envs\/default\/lib\/python3.8\/site-packages (from pandas->datasets) (2.9.0.post0)\r\n",
      "Requirement already satisfied: pytz>=2020.1 in \/opt\/python\/envs\/default\/lib\/python3.8\/site-packages (from pandas->datasets) (2024.1)\r\n",
      "Requirement already satisfied: six>=1.5 in \/opt\/python\/envs\/default\/lib\/python3.8\/site-packages (from python-dateutil>=2.8.1->pandas->datasets) (1.16.0)\r\n",
      "\r\n",
      "\u001b[1m[\u001b[0m\u001b[34;49mnotice\u001b[0m\u001b[1;39;49m]\u001b[0m\u001b[39;49m A new release of pip is available: \u001b[0m\u001b[31;49m23.1.2\u001b[0m\u001b[39;49m -> \u001b[0m\u001b[32;49m25.0\u001b[0m\r\n",
      "\u001b[1m[\u001b[0m\u001b[34;49mnotice\u001b[0m\u001b[1;39;49m]\u001b[0m\u001b[39;49m To update, run: \u001b[0m\u001b[32;49mpip install --upgrade pip\u001b[0m\r\n"
     ],
     "output_type":"stream"
    }
   ],
   "metadata":{
    "datalore":{
     "node_id":"OYbHiOBPyWypZCjfqZ2Q3q",
     "type":"CODE",
     "hide_input_from_viewers":false,
     "hide_output_from_viewers":false,
     "report_properties":{
      "rowId":"d2rnld4Px0MFXCVHRdfeKo"
     }
    }
   }
  },
  {
   "cell_type":"code",
   "source":[
    "print(\"\\n--- Importing necessary libraries ---\\n\")\n",
    "import os\n",
    "import time\n",
    "import json\n",
    "import torch\n",
    "import pandas as pd\n",
    "from transformers import (\n",
    "    AutoTokenizer,\n",
    "    AutoModelForSequenceClassification,\n",
    "    DataCollatorWithPadding,\n",
    "    Trainer,\n",
    "    TrainingArguments,\n",
    ")\n",
    "from datasets import load_dataset\n",
    "from peft import LoraConfig, get_peft_model, TaskType, AutoPeftModelForSequenceClassification\n",
    "from evaluate import load\n",
    "from sklearn.metrics import accuracy_score\n",
    "\n",
    "print(\"All libraries imported successfully!\")"
   ],
   "execution_count":2,
   "outputs":[
    {
     "name":"stdout",
     "text":[
      "\n",
      "--- Importing necessary libraries ---\n",
      "\n",
      "All libraries imported successfully!\n"
     ],
     "output_type":"stream"
    }
   ],
   "metadata":{
    "datalore":{
     "node_id":"gVqiFwvAWRn40M1ZuAzeRD",
     "type":"CODE",
     "hide_input_from_viewers":false,
     "hide_output_from_viewers":false,
     "report_properties":{
      "rowId":"R96BjpEc1mXdxjVzHJMwka"
     }
    }
   }
  },
  {
   "cell_type":"code",
   "source":[
    "device = torch.device(\"cuda\" if torch.cuda.is_available() else \"cpu\")\n",
    "print(f\"\\nUsing device: {device}\")"
   ],
   "execution_count":3,
   "outputs":[
    {
     "name":"stdout",
     "text":[
      "\n",
      "Using device: cuda\n"
     ],
     "output_type":"stream"
    }
   ],
   "metadata":{
    "datalore":{
     "node_id":"hjoYcQCXNhmJwTws77fmbN",
     "type":"CODE",
     "hide_input_from_viewers":false,
     "hide_output_from_viewers":false,
     "report_properties":{
      "rowId":"p4FDZJgyfQI442ES8a8m5q"
     }
    }
   }
  },
  {
   "cell_type":"markdown",
   "source":[
    "---\n",
    "### Loading and Preprocessing the IMDb Dataset\n",
    "---"
   ],
   "attachments":{},
   "metadata":{
    "datalore":{
     "node_id":"bb5YKriqxm9LZQq8sqHvxd",
     "type":"MD",
     "hide_input_from_viewers":false,
     "hide_output_from_viewers":false,
     "report_properties":{
      "rowId":"C3twHYPComsxcb1inhfiN8"
     }
    }
   }
  },
  {
   "cell_type":"code",
   "source":[
    "print(\"\\n--- Loading the IMDb dataset ---\\n\")\n",
    "splits = [\"train\", \"test\"]\n",
    "ds = {split: ds for split, ds in zip(splits, load_dataset(\"imdb\", split=splits))}\n",
    "\n",
    "for split in splits:\n",
    "    ds[split] = ds[split].shuffle(seed=42).select(range (5000))\n",
    "\n",
    "print(f\"Train dataset size: {len(ds['train'])}\")\n",
    "print(f\"Test dataset size: {len(ds['test'])}\")"
   ],
   "execution_count":4,
   "outputs":[
    {
     "name":"stdout",
     "text":[
      "\n",
      "--- Loading the IMDb dataset ---\n",
      "\n",
      "Train dataset size: 5000\n",
      "Test dataset size: 5000\n"
     ],
     "output_type":"stream"
    },
    {
     "data":{
      "application\/vnd.jupyter.widget-view+json":{
       "version_major":2,
       "version_minor":0,
       "model_id":"8c6ccfdff8b946f7b4b94a840f5d7f59"
      }
     },
     "metadata":{
      "application\/vnd.jupyter.widget-view+json":{
       "datalore":{
        "widget_id":"0gr08nEIjz4bUfqgHYULLS"
       }
      }
     },
     "output_type":"display_data"
    },
    {
     "data":{
      "application\/vnd.jupyter.widget-view+json":{
       "version_major":2,
       "version_minor":0,
       "model_id":"fa37fe644e704a9fae530aa2bb4f823f"
      }
     },
     "metadata":{
      "application\/vnd.jupyter.widget-view+json":{
       "datalore":{
        "widget_id":"1WtE7xQxQnRMx3cnYLMnEV"
       }
      }
     },
     "output_type":"display_data"
    },
    {
     "data":{
      "application\/vnd.jupyter.widget-view+json":{
       "version_major":2,
       "version_minor":0,
       "model_id":"683bf769a4ca4f7c94a61a8fea19eb92"
      }
     },
     "metadata":{
      "application\/vnd.jupyter.widget-view+json":{
       "datalore":{
        "widget_id":"C9etLSuhpNDFz4rxS9fVuy"
       }
      }
     },
     "output_type":"display_data"
    },
    {
     "data":{
      "application\/vnd.jupyter.widget-view+json":{
       "version_major":2,
       "version_minor":0,
       "model_id":"b6e5a81539f149a8886dae8f74ed0bd6"
      }
     },
     "metadata":{
      "application\/vnd.jupyter.widget-view+json":{
       "datalore":{
        "widget_id":"2OWBscEwydJXOcZdG7DGzv"
       }
      }
     },
     "output_type":"display_data"
    },
    {
     "data":{
      "application\/vnd.jupyter.widget-view+json":{
       "version_major":2,
       "version_minor":0,
       "model_id":"caee66d0a4824e9096f5f19d7feaf40a"
      }
     },
     "metadata":{
      "application\/vnd.jupyter.widget-view+json":{
       "datalore":{
        "widget_id":"yzn11iipIBLpGoUT79e1hK"
       }
      }
     },
     "output_type":"display_data"
    },
    {
     "data":{
      "application\/vnd.jupyter.widget-view+json":{
       "version_major":2,
       "version_minor":0,
       "model_id":"4550f7bb154f4f29a268d0dcc7ac03c2"
      }
     },
     "metadata":{
      "application\/vnd.jupyter.widget-view+json":{
       "datalore":{
        "widget_id":"Dgl59NqJOhRJCtp8rECr7l"
       }
      }
     },
     "output_type":"display_data"
    },
    {
     "data":{
      "application\/vnd.jupyter.widget-view+json":{
       "version_major":2,
       "version_minor":0,
       "model_id":"5cfe6fd4322e4231b91e49b907db153e"
      }
     },
     "metadata":{
      "application\/vnd.jupyter.widget-view+json":{
       "datalore":{
        "widget_id":"NMG96YYMh5pZ6C9Dk3ti0p"
       }
      }
     },
     "output_type":"display_data"
    }
   ],
   "metadata":{
    "datalore":{
     "node_id":"diN9BXcjJSwjM3h0dRC0dE",
     "type":"CODE",
     "hide_input_from_viewers":false,
     "hide_output_from_viewers":false,
     "report_properties":{
      "rowId":"wLTXGZk4kKzFYXIsseXDwC"
     }
    }
   }
  },
  {
   "cell_type":"code",
   "source":[
    "print(f\"Example review:\\n{ds['train'][0]['text']}\")"
   ],
   "execution_count":5,
   "outputs":[
    {
     "name":"stdout",
     "text":[
      "Example review:\n",
      "There is no relation at all between Fortier and Profiler but the fact that both are police series about violent crimes. Profiler looks crispy, Fortier looks classic. Profiler plots are quite simple. Fortier's plot are far more complicated... Fortier looks more like Prime Suspect, if we have to spot similarities... The main character is weak and weirdo, but have \"clairvoyance\". People like to compare, to judge, to evaluate. How about just enjoying? Funny thing too, people writing Fortier looks American but, on the other hand, arguing they prefer American series (!!!). Maybe it's the language, or the spirit, but I think this series is more English than American. By the way, the actors are really good and funny. The acting is not superficial at all...\n"
     ],
     "output_type":"stream"
    }
   ],
   "metadata":{
    "datalore":{
     "node_id":"CzPjauoV1D0WpYj6Eaf64b",
     "type":"CODE",
     "hide_input_from_viewers":false,
     "hide_output_from_viewers":false,
     "report_properties":{
      "rowId":"SEg0UmkHS1g1XE54mglPU2"
     }
    }
   }
  },
  {
   "cell_type":"code",
   "source":[
    "# Initialize the tokenizer\n",
    "print(\"\\n--- Initializing the GPT-2 tokenizer ---\\n\")\n",
    "tokenizer = AutoTokenizer.from_pretrained(\"gpt2\")\n",
    "tokenizer.pad_token = tokenizer.eos_token\n",
    "\n",
    "def preprocess_data(example):\n",
    "    tokenized = tokenizer(\n",
    "        example[\"text\"],\n",
    "        padding=\"max_length\",\n",
    "        truncation=True,\n",
    "    )\n",
    "    return tokenized\n",
    "\n",
    "print(\"\\n--- Tokenizing the dataset ---\\n\")\n",
    "tokenized_ds = {split: ds[split].map(preprocess_data, batched=True) for split in splits}\n",
    "tokenized_ds = {split: tokenized_ds[split].remove_columns([\"text\"]) for split in splits}"
   ],
   "execution_count":6,
   "outputs":[
    {
     "name":"stdout",
     "text":[
      "\n",
      "--- Initializing the GPT-2 tokenizer ---\n",
      "\n",
      "\n",
      "--- Tokenizing the dataset ---\n",
      "\n"
     ],
     "output_type":"stream"
    },
    {
     "name":"stderr",
     "text":[
      "\/opt\/python\/envs\/default\/lib\/python3.8\/site-packages\/huggingface_hub\/file_download.py:1150: FutureWarning: `resume_download` is deprecated and will be removed in version 1.0.0. Downloads always resume when possible. If you want to force a new download, use `force_download=True`.\n",
      "  warnings.warn(\n"
     ],
     "output_type":"stream"
    },
    {
     "data":{
      "application\/vnd.jupyter.widget-view+json":{
       "version_major":2,
       "version_minor":0,
       "model_id":"b1567eabce9246d8ae88c7c244a9e37c"
      }
     },
     "metadata":{
      "application\/vnd.jupyter.widget-view+json":{
       "datalore":{
        "widget_id":"H18PFi1iv6ecWUpD5Yf1W6"
       }
      }
     },
     "output_type":"display_data"
    },
    {
     "data":{
      "application\/vnd.jupyter.widget-view+json":{
       "version_major":2,
       "version_minor":0,
       "model_id":"744be04115f34830ba77c6e02aed3d7c"
      }
     },
     "metadata":{
      "application\/vnd.jupyter.widget-view+json":{
       "datalore":{
        "widget_id":"4wgFs3GUsO9W4U8lrJxfvp"
       }
      }
     },
     "output_type":"display_data"
    },
    {
     "data":{
      "application\/vnd.jupyter.widget-view+json":{
       "version_major":2,
       "version_minor":0,
       "model_id":"66b9cf2206a643e8b8116ab68d5b4535"
      }
     },
     "metadata":{
      "application\/vnd.jupyter.widget-view+json":{
       "datalore":{
        "widget_id":"gHNCtmmFcq9pKHsTrdFDtF"
       }
      }
     },
     "output_type":"display_data"
    },
    {
     "data":{
      "application\/vnd.jupyter.widget-view+json":{
       "version_major":2,
       "version_minor":0,
       "model_id":"29e8c5b19b8647b8a3837a85874aca0f"
      }
     },
     "metadata":{
      "application\/vnd.jupyter.widget-view+json":{
       "datalore":{
        "widget_id":"uXHVWRbgz99mM3IaZ7CzxM"
       }
      }
     },
     "output_type":"display_data"
    },
    {
     "data":{
      "application\/vnd.jupyter.widget-view+json":{
       "version_major":2,
       "version_minor":0,
       "model_id":"15aeb05933014439b0b05ff565964304"
      }
     },
     "metadata":{
      "application\/vnd.jupyter.widget-view+json":{
       "datalore":{
        "widget_id":"wy0HBoyO1eOQhYWXtbNxye"
       }
      }
     },
     "output_type":"display_data"
    },
    {
     "data":{
      "application\/vnd.jupyter.widget-view+json":{
       "version_major":2,
       "version_minor":0,
       "model_id":"600e2113b207483a82f8c940ef7a1a6d"
      }
     },
     "metadata":{
      "application\/vnd.jupyter.widget-view+json":{
       "datalore":{
        "widget_id":"OrHJdaZDpebPREWbu6j88N"
       }
      }
     },
     "output_type":"display_data"
    },
    {
     "data":{
      "application\/vnd.jupyter.widget-view+json":{
       "version_major":2,
       "version_minor":0,
       "model_id":"cddf097b13b449b0973f16acb8b8e450"
      }
     },
     "metadata":{
      "application\/vnd.jupyter.widget-view+json":{
       "datalore":{
        "widget_id":"R5VBGsStkaU4AcFTMrfgmG"
       }
      }
     },
     "output_type":"display_data"
    }
   ],
   "metadata":{
    "datalore":{
     "node_id":"qyO1Ke7xNVAaP3eA26nIdC",
     "type":"CODE",
     "hide_input_from_viewers":false,
     "hide_output_from_viewers":false,
     "report_properties":{
      "rowId":"hgSJiyxaTipBfgOtExMTYF"
     }
    }
   }
  },
  {
   "cell_type":"code",
   "source":[
    "print(f\"Example tokenized review:\\n{tokenized_ds['train'][0]['input_ids']}\")"
   ],
   "execution_count":7,
   "outputs":[
    {
     "name":"stdout",
     "text":[
      "Example tokenized review:\n",
      "[1858, 318, 645, 8695, 379, 477, 1022, 6401, 959, 290, 4415, 5329, 475, 262, 1109, 326, 1111, 389, 1644, 2168, 546, 6590, 6741, 13, 4415, 5329, 3073, 42807, 11, 6401, 959, 3073, 6833, 13, 4415, 5329, 21528, 389, 2407, 2829, 13, 6401, 959, 338, 7110, 389, 1290, 517, 8253, 986, 6401, 959, 3073, 517, 588, 5537, 8932, 806, 11, 611, 356, 423, 284, 4136, 20594, 986, 383, 1388, 2095, 318, 4939, 290, 7650, 78, 11, 475, 423, 366, 27659, 40024, 590, 1911, 4380, 588, 284, 8996, 11, 284, 5052, 11, 284, 13446, 13, 1374, 546, 655, 13226, 30, 40473, 1517, 1165, 11, 661, 3597, 6401, 959, 3073, 1605, 475, 11, 319, 262, 584, 1021, 11, 11810, 484, 4702, 1605, 2168, 357, 10185, 737, 6674, 340, 338, 262, 3303, 11, 393, 262, 4437, 11, 475, 314, 892, 428, 2168, 318, 517, 3594, 621, 1605, 13, 2750, 262, 835, 11, 262, 10544, 389, 1107, 922, 290, 8258, 13, 383, 7205, 318, 407, 31194, 379, 477, 986, 50256, 50256, 50256, 50256, 50256, 50256, 50256, 50256, 50256, 50256, 50256, 50256, 50256, 50256, 50256, 50256, 50256, 50256, 50256, 50256, 50256, 50256, 50256, 50256, 50256, 50256, 50256, 50256, 50256, 50256, 50256, 50256, 50256, 50256, 50256, 50256, 50256, 50256, 50256, 50256, 50256, 50256, 50256, 50256, 50256, 50256, 50256, 50256, 50256, 50256, 50256, 50256, 50256, 50256, 50256, 50256, 50256, 50256, 50256, 50256, 50256, 50256, 50256, 50256, 50256, 50256, 50256, 50256, 50256, 50256, 50256, 50256, 50256, 50256, 50256, 50256, 50256, 50256, 50256, 50256, 50256, 50256, 50256, 50256, 50256, 50256, 50256, 50256, 50256, 50256, 50256, 50256, 50256, 50256, 50256, 50256, 50256, 50256, 50256, 50256, 50256, 50256, 50256, 50256, 50256, 50256, 50256, 50256, 50256, 50256, 50256, 50256, 50256, 50256, 50256, 50256, 50256, 50256, 50256, 50256, 50256, 50256, 50256, 50256, 50256, 50256, 50256, 50256, 50256, 50256, 50256, 50256, 50256, 50256, 50256, 50256, 50256, 50256, 50256, 50256, 50256, 50256, 50256, 50256, 50256, 50256, 50256, 50256, 50256, 50256, 50256, 50256, 50256, 50256, 50256, 50256, 50256, 50256, 50256, 50256, 50256, 50256, 50256, 50256, 50256, 50256, 50256, 50256, 50256, 50256, 50256, 50256, 50256, 50256, 50256, 50256, 50256, 50256, 50256, 50256, 50256, 50256, 50256, 50256, 50256, 50256, 50256, 50256, 50256, 50256, 50256, 50256, 50256, 50256, 50256, 50256, 50256, 50256, 50256, 50256, 50256, 50256, 50256, 50256, 50256, 50256, 50256, 50256, 50256, 50256, 50256, 50256, 50256, 50256, 50256, 50256, 50256, 50256, 50256, 50256, 50256, 50256, 50256, 50256, 50256, 50256, 50256, 50256, 50256, 50256, 50256, 50256, 50256, 50256, 50256, 50256, 50256, 50256, 50256, 50256, 50256, 50256, 50256, 50256, 50256, 50256, 50256, 50256, 50256, 50256, 50256, 50256, 50256, 50256, 50256, 50256, 50256, 50256, 50256, 50256, 50256, 50256, 50256, 50256, 50256, 50256, 50256, 50256, 50256, 50256, 50256, 50256, 50256, 50256, 50256, 50256, 50256, 50256, 50256, 50256, 50256, 50256, 50256, 50256, 50256, 50256, 50256, 50256, 50256, 50256, 50256, 50256, 50256, 50256, 50256, 50256, 50256, 50256, 50256, 50256, 50256, 50256, 50256, 50256, 50256, 50256, 50256, 50256, 50256, 50256, 50256, 50256, 50256, 50256, 50256, 50256, 50256, 50256, 50256, 50256, 50256, 50256, 50256, 50256, 50256, 50256, 50256, 50256, 50256, 50256, 50256, 50256, 50256, 50256, 50256, 50256, 50256, 50256, 50256, 50256, 50256, 50256, 50256, 50256, 50256, 50256, 50256, 50256, 50256, 50256, 50256, 50256, 50256, 50256, 50256, 50256, 50256, 50256, 50256, 50256, 50256, 50256, 50256, 50256, 50256, 50256, 50256, 50256, 50256, 50256, 50256, 50256, 50256, 50256, 50256, 50256, 50256, 50256, 50256, 50256, 50256, 50256, 50256, 50256, 50256, 50256, 50256, 50256, 50256, 50256, 50256, 50256, 50256, 50256, 50256, 50256, 50256, 50256, 50256, 50256, 50256, 50256, 50256, 50256, 50256, 50256, 50256, 50256, 50256, 50256, 50256, 50256, 50256, 50256, 50256, 50256, 50256, 50256, 50256, 50256, 50256, 50256, 50256, 50256, 50256, 50256, 50256, 50256, 50256, 50256, 50256, 50256, 50256, 50256, 50256, 50256, 50256, 50256, 50256, 50256, 50256, 50256, 50256, 50256, 50256, 50256, 50256, 50256, 50256, 50256, 50256, 50256, 50256, 50256, 50256, 50256, 50256, 50256, 50256, 50256, 50256, 50256, 50256, 50256, 50256, 50256, 50256, 50256, 50256, 50256, 50256, 50256, 50256, 50256, 50256, 50256, 50256, 50256, 50256, 50256, 50256, 50256, 50256, 50256, 50256, 50256, 50256, 50256, 50256, 50256, 50256, 50256, 50256, 50256, 50256, 50256, 50256, 50256, 50256, 50256, 50256, 50256, 50256, 50256, 50256, 50256, 50256, 50256, 50256, 50256, 50256, 50256, 50256, 50256, 50256, 50256, 50256, 50256, 50256, 50256, 50256, 50256, 50256, 50256, 50256, 50256, 50256, 50256, 50256, 50256, 50256, 50256, 50256, 50256, 50256, 50256, 50256, 50256, 50256, 50256, 50256, 50256, 50256, 50256, 50256, 50256, 50256, 50256, 50256, 50256, 50256, 50256, 50256, 50256, 50256, 50256, 50256, 50256, 50256, 50256, 50256, 50256, 50256, 50256, 50256, 50256, 50256, 50256, 50256, 50256, 50256, 50256, 50256, 50256, 50256, 50256, 50256, 50256, 50256, 50256, 50256, 50256, 50256, 50256, 50256, 50256, 50256, 50256, 50256, 50256, 50256, 50256, 50256, 50256, 50256, 50256, 50256, 50256, 50256, 50256, 50256, 50256, 50256, 50256, 50256, 50256, 50256, 50256, 50256, 50256, 50256, 50256, 50256, 50256, 50256, 50256, 50256, 50256, 50256, 50256, 50256, 50256, 50256, 50256, 50256, 50256, 50256, 50256, 50256, 50256, 50256, 50256, 50256, 50256, 50256, 50256, 50256, 50256, 50256, 50256, 50256, 50256, 50256, 50256, 50256, 50256, 50256, 50256, 50256, 50256, 50256, 50256, 50256, 50256, 50256, 50256, 50256, 50256, 50256, 50256, 50256, 50256, 50256, 50256, 50256, 50256, 50256, 50256, 50256, 50256, 50256, 50256, 50256, 50256, 50256, 50256, 50256, 50256, 50256, 50256, 50256, 50256, 50256, 50256, 50256, 50256, 50256, 50256, 50256, 50256, 50256, 50256, 50256, 50256, 50256, 50256, 50256, 50256, 50256, 50256, 50256, 50256, 50256, 50256, 50256, 50256, 50256, 50256, 50256, 50256, 50256, 50256, 50256, 50256, 50256, 50256, 50256, 50256, 50256, 50256, 50256, 50256, 50256, 50256, 50256, 50256, 50256, 50256, 50256, 50256, 50256, 50256, 50256, 50256, 50256, 50256, 50256, 50256, 50256, 50256, 50256, 50256, 50256, 50256, 50256, 50256, 50256, 50256, 50256, 50256, 50256, 50256, 50256, 50256, 50256, 50256, 50256, 50256, 50256, 50256, 50256, 50256, 50256, 50256, 50256, 50256, 50256, 50256, 50256, 50256, 50256, 50256, 50256, 50256, 50256, 50256, 50256, 50256, 50256, 50256, 50256, 50256, 50256, 50256, 50256, 50256, 50256, 50256, 50256, 50256, 50256, 50256, 50256, 50256, 50256, 50256, 50256, 50256, 50256, 50256, 50256, 50256, 50256, 50256, 50256, 50256, 50256, 50256, 50256, 50256, 50256, 50256, 50256, 50256, 50256, 50256, 50256, 50256, 50256, 50256, 50256, 50256, 50256, 50256, 50256, 50256, 50256, 50256, 50256, 50256, 50256, 50256, 50256, 50256, 50256, 50256, 50256, 50256, 50256, 50256, 50256, 50256, 50256, 50256, 50256, 50256, 50256, 50256, 50256, 50256, 50256, 50256, 50256, 50256, 50256, 50256, 50256, 50256, 50256, 50256]\n"
     ],
     "output_type":"stream"
    }
   ],
   "metadata":{
    "datalore":{
     "node_id":"t94VD6yoxqByJ7h99UQFEU",
     "type":"CODE",
     "hide_input_from_viewers":false,
     "hide_output_from_viewers":false,
     "report_properties":{
      "rowId":"DR4ZNQX0pwuGzSrfT9s7dI"
     }
    }
   }
  },
  {
   "cell_type":"markdown",
   "source":[
    "---\n",
    "### Evaluating the Baseline GPT-2 Model\n",
    "---"
   ],
   "attachments":{},
   "metadata":{
    "datalore":{
     "node_id":"NwZQdCxIgnzqFU4McykWyW",
     "type":"MD",
     "hide_input_from_viewers":false,
     "hide_output_from_viewers":false,
     "report_properties":{
      "rowId":"TXVWb34xtTD97DTEFZ9iok"
     }
    }
   }
  },
  {
   "cell_type":"code",
   "source":[
    "print(\"\\n--- Setting dataset format for baseline evaluation ---\\n\")\n",
    "for split in splits:\n",
    "    tokenized_ds[split].set_format(type=\"torch\", columns=[\"input_ids\", \"attention_mask\", \"label\"])\n",
    "\n",
    "print(\"\\n--- Loading the GPT-2 baseline model ---\\n\")\n",
    "baseline_model = AutoModelForSequenceClassification.from_pretrained(\n",
    "    \"gpt2\", \n",
    "    num_labels=2,  # Binary classification: positive\/negative\n",
    "    id2label={0: \"NEGATIVE\", 1: \"POSITIVE\"},\n",
    "    label2id={\"NEGATIVE\": 0, \"POSITIVE\": 1}    \n",
    ")\n",
    "baseline_model.config.pad_token_id = tokenizer.pad_token_id\n",
    "baseline_model.to(device)\n",
    "print(\"GPT-2 baseline model loaded successfully!\")"
   ],
   "execution_count":8,
   "outputs":[
    {
     "name":"stdout",
     "text":[
      "\n",
      "--- Setting dataset format for baseline evaluation ---\n",
      "\n",
      "\n",
      "--- Loading the GPT-2 baseline model ---\n",
      "\n",
      "GPT-2 baseline model loaded successfully!\n"
     ],
     "output_type":"stream"
    },
    {
     "name":"stderr",
     "text":[
      "Some weights of GPT2ForSequenceClassification were not initialized from the model checkpoint at gpt2 and are newly initialized: ['score.weight']\n",
      "You should probably TRAIN this model on a down-stream task to be able to use it for predictions and inference.\n"
     ],
     "output_type":"stream"
    },
    {
     "data":{
      "application\/vnd.jupyter.widget-view+json":{
       "version_major":2,
       "version_minor":0,
       "model_id":"fc5e00e769f147cd98928d7ab73047ca"
      }
     },
     "metadata":{
      "application\/vnd.jupyter.widget-view+json":{
       "datalore":{
        "widget_id":"ApxHiRpiUU7u98Q28YLHRb"
       }
      }
     },
     "output_type":"display_data"
    }
   ],
   "metadata":{
    "datalore":{
     "node_id":"mo8Y1CxUXzaQOFb376EviA",
     "type":"CODE",
     "hide_input_from_viewers":false,
     "hide_output_from_viewers":false,
     "report_properties":{
      "rowId":"U55atS3Zp0bvARNcMfbdcB"
     }
    }
   }
  },
  {
   "cell_type":"code",
   "source":[
    "accuracy = load(\"accuracy\")\n",
    "def compute_metrics(eval_pred):\n",
    "    predictions, labels = eval_pred\n",
    "    preds = predictions.argmax(axis=-1)\n",
    "    return {\"accuracy\": accuracy_score(labels, preds)}"
   ],
   "execution_count":9,
   "outputs":[
    {
     "data":{
      "application\/vnd.jupyter.widget-view+json":{
       "version_major":2,
       "version_minor":0,
       "model_id":"a5e52efd0b89408da7fa29515fdda86f"
      }
     },
     "metadata":{
      "application\/vnd.jupyter.widget-view+json":{
       "datalore":{
        "widget_id":"uYIAiJAYexmn1D8PxdiwkT"
       }
      }
     },
     "output_type":"display_data"
    }
   ],
   "metadata":{
    "datalore":{
     "node_id":"9mE3oriVOQQnFWQZrWXFby",
     "type":"CODE",
     "hide_input_from_viewers":false,
     "hide_output_from_viewers":false,
     "report_properties":{
      "rowId":"0dFXxpzlfM3zAUsCasIZVg"
     }
    }
   }
  },
  {
   "cell_type":"code",
   "source":[
    "baseline_trainer = Trainer(\n",
    "    model=baseline_model,\n",
    "    args=TrainingArguments(\n",
    "        output_dir=\".\/baseline-results\",\n",
    "        evaluation_strategy=\"epoch\",\n",
    "        per_device_eval_batch_size=4,\n",
    "    ),\n",
    "    eval_dataset=tokenized_ds[\"test\"],\n",
    "    tokenizer=tokenizer,\n",
    "    compute_metrics=compute_metrics\n",
    ")\n",
    "\n",
    "print(\"\\n--- Evaluating the baseline model ---\\n\")\n",
    "baseline_results = baseline_trainer.evaluate()\n",
    "print(f\"Baseline evaluation results: {baseline_results}\")"
   ],
   "execution_count":10,
   "outputs":[
    {
     "name":"stdout",
     "text":[
      "\n",
      "--- Evaluating the baseline model ---\n",
      "\n",
      "Baseline evaluation results: {'eval_loss': 3.2555651664733887, 'eval_accuracy': 0.4988, 'eval_runtime': 397.173, 'eval_samples_per_second': 12.589, 'eval_steps_per_second': 3.147}\n"
     ],
     "output_type":"stream"
    },
    {
     "name":"stderr",
     "text":[
      "You're using a GPT2TokenizerFast tokenizer. Please note that with a fast tokenizer, using the `__call__` method is faster than using a method to encode the text followed by a call to the `pad` method to get a padded encoding.\n"
     ],
     "output_type":"stream"
    },
    {
     "data":{
      "text\/html":[
       "\n",
       "    <div>\n",
       "      \n",
       "      <progress value='1250' max='1250' style='width:300px; height:20px; vertical-align: middle;'><\/progress>\n",
       "      [1250\/1250 06:35]\n",
       "    <\/div>\n",
       "    "
      ]
     },
     "metadata":{},
     "output_type":"display_data"
    }
   ],
   "metadata":{
    "datalore":{
     "node_id":"BOJVGG0qXKP0dMxllIYKzE",
     "type":"CODE",
     "hide_input_from_viewers":false,
     "hide_output_from_viewers":false,
     "report_properties":{
      "rowId":"r2ACeNlkNgB8TZkNUGiBxF"
     }
    }
   }
  },
  {
   "cell_type":"code",
   "source":[
    "os.makedirs(\".\/results\", exist_ok=True)\n",
    "with open(\".\/results\/baseline_results.json\", \"w\") as f:\n",
    "    json.dump(baseline_results, f)\n",
    "print(\"Baseline evaluation results saved to 'results\/baseline_results.json'.\")"
   ],
   "execution_count":11,
   "outputs":[
    {
     "name":"stdout",
     "text":[
      "Baseline evaluation results saved to 'results\/baseline_results.json'.\n"
     ],
     "output_type":"stream"
    }
   ],
   "metadata":{
    "datalore":{
     "node_id":"LYs1RPV5eksk2nuGnLIxI6",
     "type":"CODE",
     "hide_input_from_viewers":false,
     "hide_output_from_viewers":false,
     "report_properties":{
      "rowId":"MU9ub9RdA6i7Ygrp4Ru89u"
     }
    }
   }
  },
  {
   "cell_type":"markdown",
   "source":[
    "---\n",
    "### Preparing Dataset for LoRA Fine-Tuning\n",
    "---"
   ],
   "attachments":{},
   "metadata":{
    "datalore":{
     "node_id":"DDfZ8u2gbSxSCg4ryhbUM5",
     "type":"MD",
     "hide_input_from_viewers":false,
     "hide_output_from_viewers":false,
     "report_properties":{
      "rowId":"tT5QFcjIs3Eg0o6SxgWYhs"
     }
    }
   }
  },
  {
   "cell_type":"code",
   "source":[
    "torch.cuda.empty_cache()"
   ],
   "execution_count":12,
   "outputs":[],
   "metadata":{
    "datalore":{
     "node_id":"wgKmcg4GNO0O3rIaMO7GwH",
     "type":"CODE",
     "hide_input_from_viewers":false,
     "hide_output_from_viewers":false,
     "report_properties":{
      "rowId":"gjzV0iD83AnL5zpQimha8w"
     }
    }
   }
  },
  {
   "cell_type":"code",
   "source":[
    "print(\"\\n--- Renaming 'label' to 'labels' for LoRA compatibility ---\\n\")\n",
    "for split in splits:\n",
    "    tokenized_ds[split] = tokenized_ds[split].rename_column(\"label\", \"labels\")\n",
    "\n",
    "print(\"\\n--- Setting dataset format to PyTorch tensors for LoRA ---\\n\")\n",
    "for split in splits:\n",
    "    tokenized_ds[split].set_format(type=\"torch\", columns=[\"input_ids\", \"attention_mask\", \"labels\"])"
   ],
   "execution_count":13,
   "outputs":[
    {
     "name":"stdout",
     "text":[
      "\n",
      "--- Renaming 'label' to 'labels' for LoRA compatibility ---\n",
      "\n",
      "\n",
      "--- Setting dataset format to PyTorch tensors for LoRA ---\n",
      "\n"
     ],
     "output_type":"stream"
    }
   ],
   "metadata":{
    "datalore":{
     "node_id":"uYB1pqSFELSHJFRNpgkE43",
     "type":"CODE",
     "hide_input_from_viewers":false,
     "hide_output_from_viewers":false,
     "report_properties":{
      "rowId":"HklSUSF4GDrlKCa2Zu1Ws9"
     }
    }
   }
  },
  {
   "cell_type":"markdown",
   "source":[
    "---\n",
    "### Setting Up and Fine-Tuning with LoRA\n",
    "---"
   ],
   "attachments":{},
   "metadata":{
    "datalore":{
     "node_id":"jBf5esxGNE414uDOdOr0M0",
     "type":"MD",
     "hide_input_from_viewers":false,
     "hide_output_from_viewers":false,
     "report_properties":{
      "rowId":"rJWoI8sOfX3rrMVyAesS6g"
     }
    }
   }
  },
  {
   "cell_type":"code",
   "source":[
    "print(\"\\n--- Setting up LoRA for fine-tuning ---\\n\")\n",
    "lora_config = LoraConfig(\n",
    "    task_type=TaskType.SEQ_CLS,  # Specify the task type as Sequence Classification\n",
    "    r=8,\n",
    "    lora_alpha=32,\n",
    "    target_modules=[\"c_attn\"],  # Apply LoRA to attention layers\n",
    "    lora_dropout=0.1,\n",
    "    bias=\"none\"\n",
    ")\n",
    "\n",
    "peft_model = get_peft_model(baseline_model, lora_config)\n",
    "peft_model.to(device)\n",
    "peft_model.print_trainable_parameters()"
   ],
   "execution_count":14,
   "outputs":[
    {
     "name":"stdout",
     "text":[
      "\n",
      "--- Setting up LoRA for fine-tuning ---\n",
      "\n",
      "trainable params: 296,448 || all params: 124,737,792 || trainable%: 0.2377\n"
     ],
     "output_type":"stream"
    },
    {
     "name":"stderr",
     "text":[
      "\/opt\/python\/envs\/default\/lib\/python3.8\/site-packages\/peft\/tuners\/lora\/layer.py:1150: UserWarning: fan_in_fan_out is set to False but the target module is `Conv1D`. Setting fan_in_fan_out to True.\n",
      "  warnings.warn(\n"
     ],
     "output_type":"stream"
    }
   ],
   "metadata":{
    "datalore":{
     "node_id":"YrasNQyLpQkLqv7TMRf2GO",
     "type":"CODE",
     "hide_input_from_viewers":false,
     "hide_output_from_viewers":false,
     "report_properties":{
      "rowId":"4zdEoCRtX2zWCFOkEht2gi"
     }
    }
   }
  },
  {
   "cell_type":"code",
   "source":[
    "print(\"\\n--- Starting fine-tuning with LoRA ---\\n\")\n",
    "training_args = TrainingArguments(\n",
    "    output_dir=\".\/results\",\n",
    "    learning_rate=2e-3,\n",
    "    per_device_train_batch_size=4,\n",
    "    per_device_eval_batch_size=4,\n",
    "    num_train_epochs=4,\n",
    "    weight_decay=0.01,\n",
    "    evaluation_strategy=\"epoch\",\n",
    "    save_strategy=\"epoch\",\n",
    "    save_total_limit=2,\n",
    "    load_best_model_at_end=True,\n",
    "    metric_for_best_model=\"eval_accuracy\",\n",
    "    greater_is_better=True\n",
    ")\n",
    "\n",
    "trainer = Trainer(\n",
    "    model=peft_model,\n",
    "    args=training_args,\n",
    "    train_dataset=tokenized_ds[\"train\"],\n",
    "    eval_dataset=tokenized_ds[\"test\"],\n",
    "    tokenizer=tokenizer,\n",
    "    data_collator=DataCollatorWithPadding(tokenizer=tokenizer),\n",
    "    compute_metrics=compute_metrics\n",
    ")\n",
    "\n",
    "trainer.train()\n",
    "print(\"Fine-tuning completed!\")"
   ],
   "execution_count":15,
   "outputs":[
    {
     "name":"stdout",
     "text":[
      "\n",
      "--- Starting fine-tuning with LoRA ---\n",
      "\n",
      "Fine-tuning completed!\n"
     ],
     "output_type":"stream"
    },
    {
     "name":"stderr",
     "text":[
      "\/opt\/python\/envs\/default\/lib\/python3.8\/site-packages\/transformers\/optimization.py:407: FutureWarning: This implementation of AdamW is deprecated and will be removed in a future version. Use the PyTorch implementation torch.optim.AdamW instead, or set `no_deprecation_warning=True` to disable this warning\n",
      "  warnings.warn(\n"
     ],
     "output_type":"stream"
    },
    {
     "data":{
      "text\/html":[
       "\n",
       "    <div>\n",
       "      \n",
       "      <progress value='5000' max='5000' style='width:300px; height:20px; vertical-align: middle;'><\/progress>\n",
       "      [5000\/5000 1:31:59, Epoch 4\/4]\n",
       "    <\/div>\n",
       "    <table border=\"1\" class=\"dataframe\">\n",
       "  <thead>\n",
       " <tr style=\"text-align: left;\">\n",
       "      <th>Epoch<\/th>\n",
       "      <th>Training Loss<\/th>\n",
       "      <th>Validation Loss<\/th>\n",
       "      <th>Accuracy<\/th>\n",
       "    <\/tr>\n",
       "  <\/thead>\n",
       "  <tbody>\n",
       "    <tr>\n",
       "      <td>1<\/td>\n",
       "      <td>0.707500<\/td>\n",
       "      <td>0.562448<\/td>\n",
       "      <td>0.723000<\/td>\n",
       "    <\/tr>\n",
       "    <tr>\n",
       "      <td>2<\/td>\n",
       "      <td>0.646700<\/td>\n",
       "      <td>0.644260<\/td>\n",
       "      <td>0.739000<\/td>\n",
       "    <\/tr>\n",
       "    <tr>\n",
       "      <td>3<\/td>\n",
       "      <td>0.607700<\/td>\n",
       "      <td>0.632877<\/td>\n",
       "      <td>0.755000<\/td>\n",
       "    <\/tr>\n",
       "    <tr>\n",
       "      <td>4<\/td>\n",
       "      <td>0.568000<\/td>\n",
       "      <td>0.665605<\/td>\n",
       "      <td>0.751000<\/td>\n",
       "    <\/tr>\n",
       "  <\/tbody>\n",
       "<\/table><p>"
      ]
     },
     "metadata":{},
     "output_type":"display_data"
    }
   ],
   "metadata":{
    "datalore":{
     "node_id":"my1uZdDeRsrfivXQ77rAWk",
     "type":"CODE",
     "hide_input_from_viewers":false,
     "hide_output_from_viewers":false,
     "report_properties":{
      "rowId":"WdnQcgtHyxZlE1vcfGKlGf"
     }
    }
   }
  },
  {
   "cell_type":"markdown",
   "source":[
    "---\n",
    "### Saving the Fine-Tuned Model\n",
    "---"
   ],
   "attachments":{},
   "metadata":{
    "datalore":{
     "node_id":"PdQ8DMrHvI4m5nAyPwfaB4",
     "type":"MD",
     "hide_input_from_viewers":false,
     "hide_output_from_viewers":false,
     "report_properties":{
      "rowId":"uOMl880TDI1yauK5GmP6k8"
     }
    }
   }
  },
  {
   "cell_type":"code",
   "source":[
    "print(\"\\n--- Saving the fine-tuned model ---\\n\")\n",
    "save_path = \"saved_models\/lora_finetuned\"\n",
    "os.makedirs(save_path, exist_ok=True)\n",
    "peft_model.save_pretrained(save_path)\n",
    "print(f\"Model saved successfully at {save_path}!\")"
   ],
   "execution_count":16,
   "outputs":[
    {
     "name":"stdout",
     "text":[
      "\n",
      "--- Saving the fine-tuned model ---\n",
      "\n",
      "Model saved successfully at saved_models\/lora_finetuned!\n"
     ],
     "output_type":"stream"
    },
    {
     "name":"stderr",
     "text":[
      "\/opt\/python\/envs\/default\/lib\/python3.8\/site-packages\/huggingface_hub\/file_download.py:1150: FutureWarning: `resume_download` is deprecated and will be removed in version 1.0.0. Downloads always resume when possible. If you want to force a new download, use `force_download=True`.\n",
      "  warnings.warn(\n"
     ],
     "output_type":"stream"
    }
   ],
   "metadata":{
    "datalore":{
     "node_id":"Ffe1hUa7HJebdWPpsgjlfI",
     "type":"CODE",
     "hide_input_from_viewers":false,
     "hide_output_from_viewers":false,
     "report_properties":{
      "rowId":"bED14VYVaZxcQg1Mz1pPbz"
     }
    }
   }
  },
  {
   "cell_type":"markdown",
   "source":[
    "---\n",
    "### Loading the Fine-Tuned Model\n",
    "---"
   ],
   "attachments":{},
   "metadata":{
    "datalore":{
     "node_id":"dtgselXOlC8VK2sYHHeppx",
     "type":"MD",
     "hide_input_from_viewers":false,
     "hide_output_from_viewers":false,
     "report_properties":{
      "rowId":"gtyBm4WiCnuF7rv8GyE5EH"
     }
    }
   }
  },
  {
   "cell_type":"code",
   "source":[
    "save_path = \"saved_models\/lora_finetuned\"\n",
    "\n",
    "print(\"\\n--- Loading the fine-tuned model ---\\n\")\n",
    "fine_tuned_model = AutoPeftModelForSequenceClassification.from_pretrained(save_path)\n",
    "fine_tuned_model.config.pad_token_id = tokenizer.pad_token_id\n",
    "fine_tuned_model.to(device)\n",
    "print(\"Fine-tuned model loaded successfully!\")\n",
    "\n",
    "trainer = Trainer(\n",
    "    model=fine_tuned_model,\n",
    "    args=TrainingArguments(\n",
    "        output_dir=\".\/results\",\n",
    "        evaluation_strategy=\"epoch\",\n",
    "        per_device_eval_batch_size=8\n",
    "    ),\n",
    "    eval_dataset=tokenized_ds[\"test\"],\n",
    "    tokenizer=tokenizer,\n",
    "    compute_metrics=compute_metrics\n",
    ")"
   ],
   "execution_count":17,
   "outputs":[
    {
     "name":"stdout",
     "text":[
      "\n",
      "--- Loading the fine-tuned model ---\n",
      "\n",
      "Fine-tuned model loaded successfully!\n"
     ],
     "output_type":"stream"
    },
    {
     "name":"stderr",
     "text":[
      "Some weights of GPT2ForSequenceClassification were not initialized from the model checkpoint at gpt2 and are newly initialized: ['score.weight']\n",
      "You should probably TRAIN this model on a down-stream task to be able to use it for predictions and inference.\n"
     ],
     "output_type":"stream"
    }
   ],
   "metadata":{
    "datalore":{
     "node_id":"YmoSGMw8AHRl2rLKPFcbbz",
     "type":"CODE",
     "hide_input_from_viewers":false,
     "hide_output_from_viewers":false,
     "report_properties":{
      "rowId":"1uP12Q9jkLc4IeUwW1wyn7"
     }
    }
   }
  },
  {
   "cell_type":"markdown",
   "source":[
    "---\n",
    "### Evaluating the Fine-Tuned Model\n",
    "---"
   ],
   "attachments":{},
   "metadata":{
    "datalore":{
     "node_id":"lH8VyqwB866JQWtquRu8Ap",
     "type":"MD",
     "hide_input_from_viewers":false,
     "hide_output_from_viewers":false,
     "report_properties":{
      "rowId":"Q5NbJawXvLUAhzEkgJO6Gu"
     }
    }
   }
  },
  {
   "cell_type":"code",
   "source":[
    "print(\"\\n--- Evaluating the fine-tuned model ---\\n\")\n",
    "fine_tuned_results = trainer.evaluate(eval_dataset=tokenized_ds[\"test\"])\n",
    "print(f\"Fine-tuned evaluation results: {fine_tuned_results}\")"
   ],
   "execution_count":18,
   "outputs":[
    {
     "name":"stdout",
     "text":[
      "\n",
      "--- Evaluating the fine-tuned model ---\n",
      "\n",
      "Fine-tuned evaluation results: {'eval_loss': 0.6328773498535156, 'eval_accuracy': 0.755, 'eval_runtime': 404.931, 'eval_samples_per_second': 12.348, 'eval_steps_per_second': 1.543}\n"
     ],
     "output_type":"stream"
    },
    {
     "data":{
      "text\/html":[
       "\n",
       "    <div>\n",
       "      \n",
       "      <progress value='625' max='625' style='width:300px; height:20px; vertical-align: middle;'><\/progress>\n",
       "      [625\/625 06:44]\n",
       "    <\/div>\n",
       "    "
      ]
     },
     "metadata":{},
     "output_type":"display_data"
    }
   ],
   "metadata":{
    "datalore":{
     "node_id":"SWsvsNQZQUYFMLHHZO1eAR",
     "type":"CODE",
     "hide_input_from_viewers":false,
     "hide_output_from_viewers":false,
     "report_properties":{
      "rowId":"H8B7FOTL3EmVu0XNEbmtQJ"
     }
    }
   }
  },
  {
   "cell_type":"code",
   "source":[
    "with open(\".\/results\/fine_tuned_lora_results.json\", \"w\") as f:\n",
    "    json.dump(fine_tuned_results, f)\n",
    "print(\"Fine-tuned evaluation results saved to 'results\/fine_tuned_lora_results.json'.\")"
   ],
   "execution_count":19,
   "outputs":[
    {
     "name":"stdout",
     "text":[
      "Fine-tuned evaluation results saved to 'results\/fine_tuned_lora_results.json'.\n"
     ],
     "output_type":"stream"
    }
   ],
   "metadata":{
    "datalore":{
     "node_id":"n4aqtRo1vPGhzzo4zYGKB4",
     "type":"CODE",
     "hide_input_from_viewers":false,
     "hide_output_from_viewers":false,
     "report_properties":{
      "rowId":"FuPp65CVGR0BPQW9ZIEFbh"
     }
    }
   }
  },
  {
   "cell_type":"markdown",
   "source":[
    "---\n",
    "### Comparing Baseline and Fine-Tuned Results\n",
    "---"
   ],
   "attachments":{},
   "metadata":{
    "datalore":{
     "node_id":"wIn6lLCSPupK9sk6G3qWu8",
     "type":"MD",
     "hide_input_from_viewers":false,
     "hide_output_from_viewers":false,
     "report_properties":{
      "rowId":"vDhjxBPyPbJeB3XTNl9d32"
     }
    }
   }
  },
  {
   "cell_type":"code",
   "source":[
    "print(\"\\n--- Comparing baseline and fine-tuned results ---\\n\")\n",
    "\n",
    "baseline_results_path = \"results\/baseline_results.json\"\n",
    "fine_tuned_results_path = \"results\/fine_tuned_lora_results.json\"\n",
    "\n",
    "if \"baseline_results\" not in globals():\n",
    "    if os.path.exists(baseline_results_path):\n",
    "        with open(baseline_results_path, \"r\") as f:\n",
    "            baseline_results = json.load(f)\n",
    "        print(\"Baseline results loaded from file.\")\n",
    "    else:\n",
    "        raise FileNotFoundError(f\"Baseline results file not found at {baseline_results_path}\")\n",
    "\n",
    "if \"fine_tuned_results\" not in globals():\n",
    "    if os.path.exists(fine_tuned_results_path):\n",
    "        with open(fine_tuned_results_path, \"r\") as f:\n",
    "            fine_tuned_results = json.load(f)\n",
    "        print(\"Fine-tuned results loaded from file.\")\n",
    "    else:\n",
    "        raise FileNotFoundError(f\"Fine-tuned results file not found at {fine_tuned_results_path}\")\n",
    "\n",
    "baseline_accuracy = baseline_results.get(\"eval_accuracy\", 0)\n",
    "fine_tuned_accuracy = fine_tuned_results.get(\"eval_accuracy\", 0)\n",
    "\n",
    "print(f\"Baseline Accuracy: {baseline_accuracy * 100:.2f}%\")\n",
    "print(f\"Fine-Tuned Accuracy: {fine_tuned_accuracy * 100:.2f}%\")"
   ],
   "execution_count":20,
   "outputs":[
    {
     "name":"stdout",
     "text":[
      "\n",
      "--- Comparing baseline and fine-tuned results ---\n",
      "\n",
      "Baseline Accuracy: 49.88%\n",
      "Fine-Tuned Accuracy: 75.50%\n"
     ],
     "output_type":"stream"
    }
   ],
   "metadata":{
    "datalore":{
     "node_id":"a6F73pD0Zv7KbZsOkJBcnd",
     "type":"CODE",
     "hide_input_from_viewers":false,
     "hide_output_from_viewers":false,
     "report_properties":{
      "rowId":"hyyCIs4WnEpbjhypcMhDf4"
     }
    }
   }
  },
  {
   "cell_type":"code",
   "source":[
    "comparison_df = pd.DataFrame(\n",
    "    {\n",
    "        \"Model\": [\"Baseline\", \"Fine-Tuned\"],\n",
    "        \"Accuracy (%)\": [baseline_accuracy * 100, fine_tuned_accuracy * 100],\n",
    "    }\n",
    ")\n",
    "print(\"\\nComparison Table:\\n\")\n",
    "print(comparison_df)"
   ],
   "execution_count":21,
   "outputs":[
    {
     "name":"stdout",
     "text":[
      "\n",
      "Comparison Table:\n",
      "\n",
      "        Model  Accuracy (%)\n",
      "0    Baseline         49.88\n",
      "1  Fine-Tuned         75.50\n"
     ],
     "output_type":"stream"
    }
   ],
   "metadata":{
    "datalore":{
     "node_id":"H1SBWNNV3u8bHFCCY8fVLg",
     "type":"CODE",
     "hide_input_from_viewers":false,
     "hide_output_from_viewers":false,
     "report_properties":{
      "rowId":"ljOk9vRIqYGwRMAwUvMiAX"
     }
    }
   }
  },
  {
   "cell_type":"markdown",
   "source":[
    "---\n",
    "### Inference Example\n",
    "---"
   ],
   "attachments":{},
   "metadata":{
    "datalore":{
     "node_id":"iMdX4stSktKTzotHOGQTqY",
     "type":"MD",
     "hide_input_from_viewers":false,
     "hide_output_from_viewers":false,
     "report_properties":{
      "rowId":"6uIpWCEyJ4UQUlBDX4aEj0"
     }
    }
   }
  },
  {
   "cell_type":"code",
   "source":[
    "print(\"\\n--- Performing inference with the fine-tuned model ---\\n\")\n",
    "test_sentence = \"The movie was fantastic! I loved every moment of it.\"\n",
    "\n",
    "inputs = tokenizer(test_sentence, return_tensors=\"pt\", padding=\"max_length\", truncation=True).to(device)\n",
    "\n",
    "outputs = fine_tuned_model(**inputs)\n",
    "prediction = outputs.logits.argmax(-1).item()\n",
    "\n",
    "sentiment = \"Positive\" if prediction == 1 else \"Negative\"\n",
    "print(f\"Test Sentence: {test_sentence}\")\n",
    "print(f\"Predicted Sentiment: {sentiment}\")"
   ],
   "execution_count":22,
   "outputs":[
    {
     "name":"stdout",
     "text":[
      "\n",
      "--- Performing inference with the fine-tuned model ---\n",
      "\n",
      "Test Sentence: The movie was fantastic! I loved every moment of it.\n",
      "Predicted Sentiment: Positive\n"
     ],
     "output_type":"stream"
    }
   ],
   "metadata":{
    "datalore":{
     "node_id":"L9rDJ8pZWmBvt9VNpMwI8P",
     "type":"CODE",
     "hide_input_from_viewers":false,
     "hide_output_from_viewers":false,
     "report_properties":{
      "rowId":"4RVr0oVyBCDmp9XiISoxEa"
     }
    }
   }
  },
  {
   "cell_type":"code",
   "source":[],
   "execution_count":null,
   "outputs":[],
   "metadata":{
    "datalore":{
     "node_id":"6Rbns3sHExDjsERHn7tjN5",
     "type":"CODE",
     "hide_input_from_viewers":true,
     "hide_output_from_viewers":true
    }
   }
  }
 ],
 "metadata":{
  "widgets":{
   "application\/vnd.jupyter.widget-state+json":{
    "version_major":2,
    "version_minor":0,
    "state":{
     "b8a250cb0f254458b81c5457c2be71a5":{
      "model_name":"LayoutModel",
      "model_module":"@jupyter-widgets\/base",
      "model_module_version":"1.2.0",
      "state":{}
     },
     "cbbcee8f31044003be307751256fd56d":{
      "model_name":"DescriptionStyleModel",
      "model_module":"@jupyter-widgets\/controls",
      "model_module_version":"1.5.0",
      "state":{
       "description_width":""
      }
     },
     "5198c6009c3049809db31db4fd9ba862":{
      "model_name":"HTMLModel",
      "model_module":"@jupyter-widgets\/controls",
      "model_module_version":"1.5.0",
      "state":{
       "layout":"IPY_MODEL_b8a250cb0f254458b81c5457c2be71a5",
       "style":"IPY_MODEL_cbbcee8f31044003be307751256fd56d",
       "value":"README.md: 100%"
      }
     },
     "19a9e0a427fd4889a04eb571215b9fd3":{
      "model_name":"LayoutModel",
      "model_module":"@jupyter-widgets\/base",
      "model_module_version":"1.2.0",
      "state":{}
     },
     "67d91ccedb314bcf934412eac86d32bb":{
      "model_name":"ProgressStyleModel",
      "model_module":"@jupyter-widgets\/controls",
      "model_module_version":"1.5.0",
      "state":{
       "description_width":""
      }
     },
     "6448101df034447eb7c0d91f4e59177d":{
      "model_name":"FloatProgressModel",
      "model_module":"@jupyter-widgets\/controls",
      "model_module_version":"1.5.0",
      "state":{
       "bar_style":"success",
       "layout":"IPY_MODEL_19a9e0a427fd4889a04eb571215b9fd3",
       "max":7809,
       "style":"IPY_MODEL_67d91ccedb314bcf934412eac86d32bb",
       "value":7809
      }
     },
     "05a6456503d24af49dccf3ec5851270a":{
      "model_name":"LayoutModel",
      "model_module":"@jupyter-widgets\/base",
      "model_module_version":"1.2.0",
      "state":{}
     },
     "733d24e95ec249d68a529f80d0e12e83":{
      "model_name":"DescriptionStyleModel",
      "model_module":"@jupyter-widgets\/controls",
      "model_module_version":"1.5.0",
      "state":{
       "description_width":""
      }
     },
     "5c26ba626b04430982945a4c187277a7":{
      "model_name":"HTMLModel",
      "model_module":"@jupyter-widgets\/controls",
      "model_module_version":"1.5.0",
      "state":{
       "layout":"IPY_MODEL_05a6456503d24af49dccf3ec5851270a",
       "style":"IPY_MODEL_733d24e95ec249d68a529f80d0e12e83",
       "value":" 7.81k\/7.81k [00:00&lt;00:00, 371kB\/s]"
      }
     },
     "446db23e217244e9b276579c19c23fb0":{
      "model_name":"LayoutModel",
      "model_module":"@jupyter-widgets\/base",
      "model_module_version":"1.2.0",
      "state":{}
     },
     "8c6ccfdff8b946f7b4b94a840f5d7f59":{
      "model_name":"HBoxModel",
      "model_module":"@jupyter-widgets\/controls",
      "model_module_version":"1.5.0",
      "state":{
       "children":[
        "IPY_MODEL_5198c6009c3049809db31db4fd9ba862",
        "IPY_MODEL_6448101df034447eb7c0d91f4e59177d",
        "IPY_MODEL_5c26ba626b04430982945a4c187277a7"
       ],
       "layout":"IPY_MODEL_446db23e217244e9b276579c19c23fb0"
      }
     },
     "7ad3f1ec13624f9c99bdfc2f8499af35":{
      "model_name":"LayoutModel",
      "model_module":"@jupyter-widgets\/base",
      "model_module_version":"1.2.0",
      "state":{}
     },
     "1d390d68e17b4d37a2c4bd2eeb8fbff1":{
      "model_name":"DescriptionStyleModel",
      "model_module":"@jupyter-widgets\/controls",
      "model_module_version":"1.5.0",
      "state":{
       "description_width":""
      }
     },
     "90e5c2ce651a4114b6b62afa3e0214b2":{
      "model_name":"HTMLModel",
      "model_module":"@jupyter-widgets\/controls",
      "model_module_version":"1.5.0",
      "state":{
       "layout":"IPY_MODEL_7ad3f1ec13624f9c99bdfc2f8499af35",
       "style":"IPY_MODEL_1d390d68e17b4d37a2c4bd2eeb8fbff1",
       "value":"train-00000-of-00001.parquet: 100%"
      }
     },
     "314a136f412a47519732c0c4b150dc8d":{
      "model_name":"LayoutModel",
      "model_module":"@jupyter-widgets\/base",
      "model_module_version":"1.2.0",
      "state":{}
     },
     "b62eb2ffe1584ad7b523b37e0012fbcb":{
      "model_name":"ProgressStyleModel",
      "model_module":"@jupyter-widgets\/controls",
      "model_module_version":"1.5.0",
      "state":{
       "description_width":""
      }
     },
     "7fa78177d3f949a6abd2c1f1291bad34":{
      "model_name":"FloatProgressModel",
      "model_module":"@jupyter-widgets\/controls",
      "model_module_version":"1.5.0",
      "state":{
       "bar_style":"success",
       "layout":"IPY_MODEL_314a136f412a47519732c0c4b150dc8d",
       "max":20979968,
       "style":"IPY_MODEL_b62eb2ffe1584ad7b523b37e0012fbcb",
       "value":20979968
      }
     },
     "73e51ce1f3714e0499737c32adada5fc":{
      "model_name":"LayoutModel",
      "model_module":"@jupyter-widgets\/base",
      "model_module_version":"1.2.0",
      "state":{}
     },
     "6c6be4083612476d8025885bc75d316e":{
      "model_name":"DescriptionStyleModel",
      "model_module":"@jupyter-widgets\/controls",
      "model_module_version":"1.5.0",
      "state":{
       "description_width":""
      }
     },
     "b3c34b4cc3d7463eae0757dd96ff0893":{
      "model_name":"HTMLModel",
      "model_module":"@jupyter-widgets\/controls",
      "model_module_version":"1.5.0",
      "state":{
       "layout":"IPY_MODEL_73e51ce1f3714e0499737c32adada5fc",
       "style":"IPY_MODEL_6c6be4083612476d8025885bc75d316e",
       "value":" 21.0M\/21.0M [00:00&lt;00:00, 175MB\/s]"
      }
     },
     "6003dd5879fc4ae6aef419ffaa05a61f":{
      "model_name":"LayoutModel",
      "model_module":"@jupyter-widgets\/base",
      "model_module_version":"1.2.0",
      "state":{}
     },
     "fa37fe644e704a9fae530aa2bb4f823f":{
      "model_name":"HBoxModel",
      "model_module":"@jupyter-widgets\/controls",
      "model_module_version":"1.5.0",
      "state":{
       "children":[
        "IPY_MODEL_90e5c2ce651a4114b6b62afa3e0214b2",
        "IPY_MODEL_7fa78177d3f949a6abd2c1f1291bad34",
        "IPY_MODEL_b3c34b4cc3d7463eae0757dd96ff0893"
       ],
       "layout":"IPY_MODEL_6003dd5879fc4ae6aef419ffaa05a61f"
      }
     },
     "49404e06eead4cda9917eb342f7ebb4f":{
      "model_name":"LayoutModel",
      "model_module":"@jupyter-widgets\/base",
      "model_module_version":"1.2.0",
      "state":{}
     },
     "d87e9bc7b421420c8500446c4af8b862":{
      "model_name":"DescriptionStyleModel",
      "model_module":"@jupyter-widgets\/controls",
      "model_module_version":"1.5.0",
      "state":{
       "description_width":""
      }
     },
     "48b2b44027454c6d8a158e74ac9f2eba":{
      "model_name":"HTMLModel",
      "model_module":"@jupyter-widgets\/controls",
      "model_module_version":"1.5.0",
      "state":{
       "layout":"IPY_MODEL_49404e06eead4cda9917eb342f7ebb4f",
       "style":"IPY_MODEL_d87e9bc7b421420c8500446c4af8b862",
       "value":"test-00000-of-00001.parquet: 100%"
      }
     },
     "d6181135b15646929df2e81fd45a7f8d":{
      "model_name":"LayoutModel",
      "model_module":"@jupyter-widgets\/base",
      "model_module_version":"1.2.0",
      "state":{}
     },
     "573e317b284e4bd5a92ad88999559947":{
      "model_name":"ProgressStyleModel",
      "model_module":"@jupyter-widgets\/controls",
      "model_module_version":"1.5.0",
      "state":{
       "description_width":""
      }
     },
     "d34c871ad44049d48d80293253cc6662":{
      "model_name":"FloatProgressModel",
      "model_module":"@jupyter-widgets\/controls",
      "model_module_version":"1.5.0",
      "state":{
       "bar_style":"success",
       "layout":"IPY_MODEL_d6181135b15646929df2e81fd45a7f8d",
       "max":20470363,
       "style":"IPY_MODEL_573e317b284e4bd5a92ad88999559947",
       "value":20470363
      }
     },
     "5465c956f7574963a8545f0e5b2c558b":{
      "model_name":"LayoutModel",
      "model_module":"@jupyter-widgets\/base",
      "model_module_version":"1.2.0",
      "state":{}
     },
     "82d27052c649425d848c14b2d436cf24":{
      "model_name":"DescriptionStyleModel",
      "model_module":"@jupyter-widgets\/controls",
      "model_module_version":"1.5.0",
      "state":{
       "description_width":""
      }
     },
     "6448a507aea346d4a777cd9e7d115c12":{
      "model_name":"HTMLModel",
      "model_module":"@jupyter-widgets\/controls",
      "model_module_version":"1.5.0",
      "state":{
       "layout":"IPY_MODEL_5465c956f7574963a8545f0e5b2c558b",
       "style":"IPY_MODEL_82d27052c649425d848c14b2d436cf24",
       "value":" 20.5M\/20.5M [00:00&lt;00:00, 212MB\/s]"
      }
     },
     "3b0bdba8c393469086022f1cc852010a":{
      "model_name":"LayoutModel",
      "model_module":"@jupyter-widgets\/base",
      "model_module_version":"1.2.0",
      "state":{}
     },
     "683bf769a4ca4f7c94a61a8fea19eb92":{
      "model_name":"HBoxModel",
      "model_module":"@jupyter-widgets\/controls",
      "model_module_version":"1.5.0",
      "state":{
       "children":[
        "IPY_MODEL_48b2b44027454c6d8a158e74ac9f2eba",
        "IPY_MODEL_d34c871ad44049d48d80293253cc6662",
        "IPY_MODEL_6448a507aea346d4a777cd9e7d115c12"
       ],
       "layout":"IPY_MODEL_3b0bdba8c393469086022f1cc852010a"
      }
     },
     "726a35796c0b4bcca00263b61381f3ff":{
      "model_name":"LayoutModel",
      "model_module":"@jupyter-widgets\/base",
      "model_module_version":"1.2.0",
      "state":{}
     },
     "b3108503bf864f7c9d543202241fd466":{
      "model_name":"DescriptionStyleModel",
      "model_module":"@jupyter-widgets\/controls",
      "model_module_version":"1.5.0",
      "state":{
       "description_width":""
      }
     },
     "fcb3547f37194f198c9be958c8175ed8":{
      "model_name":"HTMLModel",
      "model_module":"@jupyter-widgets\/controls",
      "model_module_version":"1.5.0",
      "state":{
       "layout":"IPY_MODEL_726a35796c0b4bcca00263b61381f3ff",
       "style":"IPY_MODEL_b3108503bf864f7c9d543202241fd466",
       "value":"unsupervised-00000-of-00001.parquet: 100%"
      }
     },
     "1ab93d6906414ca0a6146e70cf635286":{
      "model_name":"LayoutModel",
      "model_module":"@jupyter-widgets\/base",
      "model_module_version":"1.2.0",
      "state":{}
     },
     "3a5ed9d2c3b14fbcb35de238e3703ea4":{
      "model_name":"ProgressStyleModel",
      "model_module":"@jupyter-widgets\/controls",
      "model_module_version":"1.5.0",
      "state":{
       "description_width":""
      }
     },
     "e261f9022ed148db8b1efef2d1169657":{
      "model_name":"FloatProgressModel",
      "model_module":"@jupyter-widgets\/controls",
      "model_module_version":"1.5.0",
      "state":{
       "bar_style":"success",
       "layout":"IPY_MODEL_1ab93d6906414ca0a6146e70cf635286",
       "max":41996509,
       "style":"IPY_MODEL_3a5ed9d2c3b14fbcb35de238e3703ea4",
       "value":41996509
      }
     },
     "cea7c6602b0047dc969b3d260d754a3e":{
      "model_name":"LayoutModel",
      "model_module":"@jupyter-widgets\/base",
      "model_module_version":"1.2.0",
      "state":{}
     },
     "bb749da24fd4423d944aae09b47b7b18":{
      "model_name":"DescriptionStyleModel",
      "model_module":"@jupyter-widgets\/controls",
      "model_module_version":"1.5.0",
      "state":{
       "description_width":""
      }
     },
     "22914dc993574f2db73f10520867f54e":{
      "model_name":"HTMLModel",
      "model_module":"@jupyter-widgets\/controls",
      "model_module_version":"1.5.0",
      "state":{
       "layout":"IPY_MODEL_cea7c6602b0047dc969b3d260d754a3e",
       "style":"IPY_MODEL_bb749da24fd4423d944aae09b47b7b18",
       "value":" 42.0M\/42.0M [00:00&lt;00:00, 232MB\/s]"
      }
     },
     "9c8592397bab4872bdea0c5f9a4d5a5c":{
      "model_name":"LayoutModel",
      "model_module":"@jupyter-widgets\/base",
      "model_module_version":"1.2.0",
      "state":{}
     },
     "b6e5a81539f149a8886dae8f74ed0bd6":{
      "model_name":"HBoxModel",
      "model_module":"@jupyter-widgets\/controls",
      "model_module_version":"1.5.0",
      "state":{
       "children":[
        "IPY_MODEL_fcb3547f37194f198c9be958c8175ed8",
        "IPY_MODEL_e261f9022ed148db8b1efef2d1169657",
        "IPY_MODEL_22914dc993574f2db73f10520867f54e"
       ],
       "layout":"IPY_MODEL_9c8592397bab4872bdea0c5f9a4d5a5c"
      }
     },
     "340bea80359d47898c42f8a78f9ba41f":{
      "model_name":"LayoutModel",
      "model_module":"@jupyter-widgets\/base",
      "model_module_version":"1.2.0",
      "state":{}
     },
     "81186171767c4b0da9dea63158fdc044":{
      "model_name":"DescriptionStyleModel",
      "model_module":"@jupyter-widgets\/controls",
      "model_module_version":"1.5.0",
      "state":{
       "description_width":""
      }
     },
     "ee4a2d50111b47dda96be4ab52f5f448":{
      "model_name":"HTMLModel",
      "model_module":"@jupyter-widgets\/controls",
      "model_module_version":"1.5.0",
      "state":{
       "layout":"IPY_MODEL_340bea80359d47898c42f8a78f9ba41f",
       "style":"IPY_MODEL_81186171767c4b0da9dea63158fdc044",
       "value":"Generating train split: 100%"
      }
     },
     "6a5331f2d5104e82b9da6e2accc0a9ec":{
      "model_name":"LayoutModel",
      "model_module":"@jupyter-widgets\/base",
      "model_module_version":"1.2.0",
      "state":{}
     },
     "0ac9517907f649aa9aedd8d69e1cd2f5":{
      "model_name":"ProgressStyleModel",
      "model_module":"@jupyter-widgets\/controls",
      "model_module_version":"1.5.0",
      "state":{
       "description_width":""
      }
     },
     "db152c6699d9403f84d1d836e997bf09":{
      "model_name":"FloatProgressModel",
      "model_module":"@jupyter-widgets\/controls",
      "model_module_version":"1.5.0",
      "state":{
       "bar_style":"success",
       "layout":"IPY_MODEL_6a5331f2d5104e82b9da6e2accc0a9ec",
       "max":25000,
       "style":"IPY_MODEL_0ac9517907f649aa9aedd8d69e1cd2f5",
       "value":25000
      }
     },
     "eeb80986d82e46189adc376892445159":{
      "model_name":"LayoutModel",
      "model_module":"@jupyter-widgets\/base",
      "model_module_version":"1.2.0",
      "state":{}
     },
     "baa102a1afd74398914b4b1ebd2cb5aa":{
      "model_name":"DescriptionStyleModel",
      "model_module":"@jupyter-widgets\/controls",
      "model_module_version":"1.5.0",
      "state":{
       "description_width":""
      }
     },
     "5168242b94ff42a3ae0921aeb0ef95bf":{
      "model_name":"HTMLModel",
      "model_module":"@jupyter-widgets\/controls",
      "model_module_version":"1.5.0",
      "state":{
       "layout":"IPY_MODEL_eeb80986d82e46189adc376892445159",
       "style":"IPY_MODEL_baa102a1afd74398914b4b1ebd2cb5aa",
       "value":" 25000\/25000 [00:00&lt;00:00, 152412.51 examples\/s]"
      }
     },
     "8b0d926734c440c2bd44799f2f78cbcb":{
      "model_name":"LayoutModel",
      "model_module":"@jupyter-widgets\/base",
      "model_module_version":"1.2.0",
      "state":{}
     },
     "caee66d0a4824e9096f5f19d7feaf40a":{
      "model_name":"HBoxModel",
      "model_module":"@jupyter-widgets\/controls",
      "model_module_version":"1.5.0",
      "state":{
       "children":[
        "IPY_MODEL_ee4a2d50111b47dda96be4ab52f5f448",
        "IPY_MODEL_db152c6699d9403f84d1d836e997bf09",
        "IPY_MODEL_5168242b94ff42a3ae0921aeb0ef95bf"
       ],
       "layout":"IPY_MODEL_8b0d926734c440c2bd44799f2f78cbcb"
      }
     },
     "d592393d5fd244ee86e764d1d6d3e353":{
      "model_name":"LayoutModel",
      "model_module":"@jupyter-widgets\/base",
      "model_module_version":"1.2.0",
      "state":{}
     },
     "70fee4f882d04f778d25527d302285d3":{
      "model_name":"DescriptionStyleModel",
      "model_module":"@jupyter-widgets\/controls",
      "model_module_version":"1.5.0",
      "state":{
       "description_width":""
      }
     },
     "2f48d6aa9b9546be9622b0ebb6ee6edb":{
      "model_name":"HTMLModel",
      "model_module":"@jupyter-widgets\/controls",
      "model_module_version":"1.5.0",
      "state":{
       "layout":"IPY_MODEL_d592393d5fd244ee86e764d1d6d3e353",
       "style":"IPY_MODEL_70fee4f882d04f778d25527d302285d3",
       "value":"Generating test split: 100%"
      }
     },
     "2723cbf7f2444ecfb86eba1e5f8b60a2":{
      "model_name":"LayoutModel",
      "model_module":"@jupyter-widgets\/base",
      "model_module_version":"1.2.0",
      "state":{}
     },
     "f4161e4f8c5e456f898cf81726f24391":{
      "model_name":"ProgressStyleModel",
      "model_module":"@jupyter-widgets\/controls",
      "model_module_version":"1.5.0",
      "state":{
       "description_width":""
      }
     },
     "77efe68c11674f979626e95d266b1298":{
      "model_name":"FloatProgressModel",
      "model_module":"@jupyter-widgets\/controls",
      "model_module_version":"1.5.0",
      "state":{
       "bar_style":"success",
       "layout":"IPY_MODEL_2723cbf7f2444ecfb86eba1e5f8b60a2",
       "max":25000,
       "style":"IPY_MODEL_f4161e4f8c5e456f898cf81726f24391",
       "value":25000
      }
     },
     "76f21147b7104076b6e1f8ebcb20920b":{
      "model_name":"LayoutModel",
      "model_module":"@jupyter-widgets\/base",
      "model_module_version":"1.2.0",
      "state":{}
     },
     "07444e0ee44a4e1fb235418cbe3ebef8":{
      "model_name":"DescriptionStyleModel",
      "model_module":"@jupyter-widgets\/controls",
      "model_module_version":"1.5.0",
      "state":{
       "description_width":""
      }
     },
     "701ffe98fbaf48949f7458c06485e3f5":{
      "model_name":"HTMLModel",
      "model_module":"@jupyter-widgets\/controls",
      "model_module_version":"1.5.0",
      "state":{
       "layout":"IPY_MODEL_76f21147b7104076b6e1f8ebcb20920b",
       "style":"IPY_MODEL_07444e0ee44a4e1fb235418cbe3ebef8",
       "value":" 25000\/25000 [00:00&lt;00:00, 179159.54 examples\/s]"
      }
     },
     "0f3f61bef36041a2bb09635737afb6e3":{
      "model_name":"LayoutModel",
      "model_module":"@jupyter-widgets\/base",
      "model_module_version":"1.2.0",
      "state":{}
     },
     "4550f7bb154f4f29a268d0dcc7ac03c2":{
      "model_name":"HBoxModel",
      "model_module":"@jupyter-widgets\/controls",
      "model_module_version":"1.5.0",
      "state":{
       "children":[
        "IPY_MODEL_2f48d6aa9b9546be9622b0ebb6ee6edb",
        "IPY_MODEL_77efe68c11674f979626e95d266b1298",
        "IPY_MODEL_701ffe98fbaf48949f7458c06485e3f5"
       ],
       "layout":"IPY_MODEL_0f3f61bef36041a2bb09635737afb6e3"
      }
     },
     "b4d8eb20e63f4f45af0bc45975a85bd6":{
      "model_name":"LayoutModel",
      "model_module":"@jupyter-widgets\/base",
      "model_module_version":"1.2.0",
      "state":{}
     },
     "45944a941f444288a9e9f01812c8c210":{
      "model_name":"DescriptionStyleModel",
      "model_module":"@jupyter-widgets\/controls",
      "model_module_version":"1.5.0",
      "state":{
       "description_width":""
      }
     },
     "0388e89753a34c33bff6ca8e61b84d81":{
      "model_name":"HTMLModel",
      "model_module":"@jupyter-widgets\/controls",
      "model_module_version":"1.5.0",
      "state":{
       "layout":"IPY_MODEL_b4d8eb20e63f4f45af0bc45975a85bd6",
       "style":"IPY_MODEL_45944a941f444288a9e9f01812c8c210",
       "value":"Generating unsupervised split: 100%"
      }
     },
     "dad2544e9f32410caf7e3cda0804942b":{
      "model_name":"LayoutModel",
      "model_module":"@jupyter-widgets\/base",
      "model_module_version":"1.2.0",
      "state":{}
     },
     "1e0ccd4036d24f059aca5ef37f78dfcf":{
      "model_name":"ProgressStyleModel",
      "model_module":"@jupyter-widgets\/controls",
      "model_module_version":"1.5.0",
      "state":{
       "description_width":""
      }
     },
     "b2f52fb73f454ed39c73d7562c1f1076":{
      "model_name":"FloatProgressModel",
      "model_module":"@jupyter-widgets\/controls",
      "model_module_version":"1.5.0",
      "state":{
       "bar_style":"success",
       "layout":"IPY_MODEL_dad2544e9f32410caf7e3cda0804942b",
       "max":50000,
       "style":"IPY_MODEL_1e0ccd4036d24f059aca5ef37f78dfcf",
       "value":50000
      }
     },
     "3f302947243149e8b625927ae9c60f31":{
      "model_name":"LayoutModel",
      "model_module":"@jupyter-widgets\/base",
      "model_module_version":"1.2.0",
      "state":{}
     },
     "5d9e31d671bc4806adec5f473f83e9dc":{
      "model_name":"DescriptionStyleModel",
      "model_module":"@jupyter-widgets\/controls",
      "model_module_version":"1.5.0",
      "state":{
       "description_width":""
      }
     },
     "4e97f38db03e49acb8a027d8b383d332":{
      "model_name":"HTMLModel",
      "model_module":"@jupyter-widgets\/controls",
      "model_module_version":"1.5.0",
      "state":{
       "layout":"IPY_MODEL_3f302947243149e8b625927ae9c60f31",
       "style":"IPY_MODEL_5d9e31d671bc4806adec5f473f83e9dc",
       "value":" 50000\/50000 [00:00&lt;00:00, 188162.99 examples\/s]"
      }
     },
     "da938495d8494c4f83477353d89b4730":{
      "model_name":"LayoutModel",
      "model_module":"@jupyter-widgets\/base",
      "model_module_version":"1.2.0",
      "state":{}
     },
     "5cfe6fd4322e4231b91e49b907db153e":{
      "model_name":"HBoxModel",
      "model_module":"@jupyter-widgets\/controls",
      "model_module_version":"1.5.0",
      "state":{
       "children":[
        "IPY_MODEL_0388e89753a34c33bff6ca8e61b84d81",
        "IPY_MODEL_b2f52fb73f454ed39c73d7562c1f1076",
        "IPY_MODEL_4e97f38db03e49acb8a027d8b383d332"
       ],
       "layout":"IPY_MODEL_da938495d8494c4f83477353d89b4730"
      }
     },
     "7307b89074c34ab7b204d7ba0f3a1060":{
      "model_name":"LayoutModel",
      "model_module":"@jupyter-widgets\/base",
      "model_module_version":"1.2.0",
      "state":{}
     },
     "5a26f612b26f4050bd36f5bdce595979":{
      "model_name":"DescriptionStyleModel",
      "model_module":"@jupyter-widgets\/controls",
      "model_module_version":"1.5.0",
      "state":{
       "description_width":""
      }
     },
     "7b198743e81f44d5b5bacddc6758a87b":{
      "model_name":"HTMLModel",
      "model_module":"@jupyter-widgets\/controls",
      "model_module_version":"1.5.0",
      "state":{
       "layout":"IPY_MODEL_7307b89074c34ab7b204d7ba0f3a1060",
       "style":"IPY_MODEL_5a26f612b26f4050bd36f5bdce595979",
       "value":"tokenizer_config.json: 100%"
      }
     },
     "d4f88cd425f3467589ae0008f3b3d371":{
      "model_name":"LayoutModel",
      "model_module":"@jupyter-widgets\/base",
      "model_module_version":"1.2.0",
      "state":{}
     },
     "5766d73f34f04bbb961a5e87e0017fee":{
      "model_name":"ProgressStyleModel",
      "model_module":"@jupyter-widgets\/controls",
      "model_module_version":"1.5.0",
      "state":{
       "description_width":""
      }
     },
     "7dba5c9fcfb3416cba76791d5636cdc5":{
      "model_name":"FloatProgressModel",
      "model_module":"@jupyter-widgets\/controls",
      "model_module_version":"1.5.0",
      "state":{
       "bar_style":"success",
       "layout":"IPY_MODEL_d4f88cd425f3467589ae0008f3b3d371",
       "max":26,
       "style":"IPY_MODEL_5766d73f34f04bbb961a5e87e0017fee",
       "value":26
      }
     },
     "1836bcc91dd44d2fb78f6c5d4e69f0a0":{
      "model_name":"LayoutModel",
      "model_module":"@jupyter-widgets\/base",
      "model_module_version":"1.2.0",
      "state":{}
     },
     "2ed9204b17284f7fa5d95f5432f49549":{
      "model_name":"DescriptionStyleModel",
      "model_module":"@jupyter-widgets\/controls",
      "model_module_version":"1.5.0",
      "state":{
       "description_width":""
      }
     },
     "e7a287b0ed3640c6a3a2af97d932a3a3":{
      "model_name":"HTMLModel",
      "model_module":"@jupyter-widgets\/controls",
      "model_module_version":"1.5.0",
      "state":{
       "layout":"IPY_MODEL_1836bcc91dd44d2fb78f6c5d4e69f0a0",
       "style":"IPY_MODEL_2ed9204b17284f7fa5d95f5432f49549",
       "value":" 26.0\/26.0 [00:00&lt;00:00, 1.33kB\/s]"
      }
     },
     "d4c4593c60ff4299b76d05f4ccf8f811":{
      "model_name":"LayoutModel",
      "model_module":"@jupyter-widgets\/base",
      "model_module_version":"1.2.0",
      "state":{}
     },
     "b1567eabce9246d8ae88c7c244a9e37c":{
      "model_name":"HBoxModel",
      "model_module":"@jupyter-widgets\/controls",
      "model_module_version":"1.5.0",
      "state":{
       "children":[
        "IPY_MODEL_7b198743e81f44d5b5bacddc6758a87b",
        "IPY_MODEL_7dba5c9fcfb3416cba76791d5636cdc5",
        "IPY_MODEL_e7a287b0ed3640c6a3a2af97d932a3a3"
       ],
       "layout":"IPY_MODEL_d4c4593c60ff4299b76d05f4ccf8f811"
      }
     },
     "72c5ba374b4a4c888712dae39943e7a1":{
      "model_name":"LayoutModel",
      "model_module":"@jupyter-widgets\/base",
      "model_module_version":"1.2.0",
      "state":{}
     },
     "e312b96e43e547f59520340c8fe6413e":{
      "model_name":"DescriptionStyleModel",
      "model_module":"@jupyter-widgets\/controls",
      "model_module_version":"1.5.0",
      "state":{
       "description_width":""
      }
     },
     "8ada89016e464c8b9d744ad891444a9a":{
      "model_name":"HTMLModel",
      "model_module":"@jupyter-widgets\/controls",
      "model_module_version":"1.5.0",
      "state":{
       "layout":"IPY_MODEL_72c5ba374b4a4c888712dae39943e7a1",
       "style":"IPY_MODEL_e312b96e43e547f59520340c8fe6413e",
       "value":"config.json: 100%"
      }
     },
     "07e32d80b1764676895f458caf9ec4e0":{
      "model_name":"LayoutModel",
      "model_module":"@jupyter-widgets\/base",
      "model_module_version":"1.2.0",
      "state":{}
     },
     "e0cd5d96f0c841bd98685da0c618a1bf":{
      "model_name":"ProgressStyleModel",
      "model_module":"@jupyter-widgets\/controls",
      "model_module_version":"1.5.0",
      "state":{
       "description_width":""
      }
     },
     "eba49c4dc84d4d9a968ce043da6dc776":{
      "model_name":"FloatProgressModel",
      "model_module":"@jupyter-widgets\/controls",
      "model_module_version":"1.5.0",
      "state":{
       "bar_style":"success",
       "layout":"IPY_MODEL_07e32d80b1764676895f458caf9ec4e0",
       "max":665,
       "style":"IPY_MODEL_e0cd5d96f0c841bd98685da0c618a1bf",
       "value":665
      }
     },
     "ff5966d2122a4864930e280d8c0ba254":{
      "model_name":"LayoutModel",
      "model_module":"@jupyter-widgets\/base",
      "model_module_version":"1.2.0",
      "state":{}
     },
     "e26b82478de548ca8106b6d93398ea28":{
      "model_name":"DescriptionStyleModel",
      "model_module":"@jupyter-widgets\/controls",
      "model_module_version":"1.5.0",
      "state":{
       "description_width":""
      }
     },
     "2edd0ac289794de9a1494af41cc30010":{
      "model_name":"HTMLModel",
      "model_module":"@jupyter-widgets\/controls",
      "model_module_version":"1.5.0",
      "state":{
       "layout":"IPY_MODEL_ff5966d2122a4864930e280d8c0ba254",
       "style":"IPY_MODEL_e26b82478de548ca8106b6d93398ea28",
       "value":" 665\/665 [00:00&lt;00:00, 49.3kB\/s]"
      }
     },
     "74976a41065c48608f43b1d303b784ef":{
      "model_name":"LayoutModel",
      "model_module":"@jupyter-widgets\/base",
      "model_module_version":"1.2.0",
      "state":{}
     },
     "744be04115f34830ba77c6e02aed3d7c":{
      "model_name":"HBoxModel",
      "model_module":"@jupyter-widgets\/controls",
      "model_module_version":"1.5.0",
      "state":{
       "children":[
        "IPY_MODEL_8ada89016e464c8b9d744ad891444a9a",
        "IPY_MODEL_eba49c4dc84d4d9a968ce043da6dc776",
        "IPY_MODEL_2edd0ac289794de9a1494af41cc30010"
       ],
       "layout":"IPY_MODEL_74976a41065c48608f43b1d303b784ef"
      }
     },
     "e3f10403959847418796330547d9cdb1":{
      "model_name":"LayoutModel",
      "model_module":"@jupyter-widgets\/base",
      "model_module_version":"1.2.0",
      "state":{}
     },
     "e2aab6fb4637494b8c0474c2ee102ddc":{
      "model_name":"DescriptionStyleModel",
      "model_module":"@jupyter-widgets\/controls",
      "model_module_version":"1.5.0",
      "state":{
       "description_width":""
      }
     },
     "253b69ca3b924730ad51632fbddd6c98":{
      "model_name":"HTMLModel",
      "model_module":"@jupyter-widgets\/controls",
      "model_module_version":"1.5.0",
      "state":{
       "layout":"IPY_MODEL_e3f10403959847418796330547d9cdb1",
       "style":"IPY_MODEL_e2aab6fb4637494b8c0474c2ee102ddc",
       "value":"vocab.json: 100%"
      }
     },
     "90102e2fef7a4950b6c5d27a59aa9ee6":{
      "model_name":"LayoutModel",
      "model_module":"@jupyter-widgets\/base",
      "model_module_version":"1.2.0",
      "state":{}
     },
     "1a2ba3e2802145e6bcd81acaa1a7e69c":{
      "model_name":"ProgressStyleModel",
      "model_module":"@jupyter-widgets\/controls",
      "model_module_version":"1.5.0",
      "state":{
       "description_width":""
      }
     },
     "3e8c5bb6e32743989f1df9a52f95153c":{
      "model_name":"FloatProgressModel",
      "model_module":"@jupyter-widgets\/controls",
      "model_module_version":"1.5.0",
      "state":{
       "bar_style":"success",
       "layout":"IPY_MODEL_90102e2fef7a4950b6c5d27a59aa9ee6",
       "max":1042301,
       "style":"IPY_MODEL_1a2ba3e2802145e6bcd81acaa1a7e69c",
       "value":1042301
      }
     },
     "c63569b429e842f5a7faa4b63799f5da":{
      "model_name":"LayoutModel",
      "model_module":"@jupyter-widgets\/base",
      "model_module_version":"1.2.0",
      "state":{}
     },
     "7a7616650bde440faa049eefc9a12278":{
      "model_name":"DescriptionStyleModel",
      "model_module":"@jupyter-widgets\/controls",
      "model_module_version":"1.5.0",
      "state":{
       "description_width":""
      }
     },
     "c522df077d1c49a185d41eece43c9b8a":{
      "model_name":"HTMLModel",
      "model_module":"@jupyter-widgets\/controls",
      "model_module_version":"1.5.0",
      "state":{
       "layout":"IPY_MODEL_c63569b429e842f5a7faa4b63799f5da",
       "style":"IPY_MODEL_7a7616650bde440faa049eefc9a12278",
       "value":" 1.04M\/1.04M [00:00&lt;00:00, 5.10MB\/s]"
      }
     },
     "c3c99009a3e54369923fcfe439bfb17a":{
      "model_name":"LayoutModel",
      "model_module":"@jupyter-widgets\/base",
      "model_module_version":"1.2.0",
      "state":{}
     },
     "66b9cf2206a643e8b8116ab68d5b4535":{
      "model_name":"HBoxModel",
      "model_module":"@jupyter-widgets\/controls",
      "model_module_version":"1.5.0",
      "state":{
       "children":[
        "IPY_MODEL_253b69ca3b924730ad51632fbddd6c98",
        "IPY_MODEL_3e8c5bb6e32743989f1df9a52f95153c",
        "IPY_MODEL_c522df077d1c49a185d41eece43c9b8a"
       ],
       "layout":"IPY_MODEL_c3c99009a3e54369923fcfe439bfb17a"
      }
     },
     "c591ea22b08943ed8ae583001a1240b4":{
      "model_name":"LayoutModel",
      "model_module":"@jupyter-widgets\/base",
      "model_module_version":"1.2.0",
      "state":{}
     },
     "471bdbfeb50a45c19ed57fc6f560b3b3":{
      "model_name":"DescriptionStyleModel",
      "model_module":"@jupyter-widgets\/controls",
      "model_module_version":"1.5.0",
      "state":{
       "description_width":""
      }
     },
     "8f72949c04344bd7b57ce143ee4fd7e9":{
      "model_name":"HTMLModel",
      "model_module":"@jupyter-widgets\/controls",
      "model_module_version":"1.5.0",
      "state":{
       "layout":"IPY_MODEL_c591ea22b08943ed8ae583001a1240b4",
       "style":"IPY_MODEL_471bdbfeb50a45c19ed57fc6f560b3b3",
       "value":"merges.txt: 100%"
      }
     },
     "d0ad3371fffb4b8f82bae4704676d016":{
      "model_name":"LayoutModel",
      "model_module":"@jupyter-widgets\/base",
      "model_module_version":"1.2.0",
      "state":{}
     },
     "595d0c784ec64074a457a62164bfa1e6":{
      "model_name":"ProgressStyleModel",
      "model_module":"@jupyter-widgets\/controls",
      "model_module_version":"1.5.0",
      "state":{
       "description_width":""
      }
     },
     "c321409171f6473da6e5af5a60901035":{
      "model_name":"FloatProgressModel",
      "model_module":"@jupyter-widgets\/controls",
      "model_module_version":"1.5.0",
      "state":{
       "bar_style":"success",
       "layout":"IPY_MODEL_d0ad3371fffb4b8f82bae4704676d016",
       "max":456318,
       "style":"IPY_MODEL_595d0c784ec64074a457a62164bfa1e6",
       "value":456318
      }
     },
     "c66069fcb47e43b2aa8eaddfe8561e7d":{
      "model_name":"LayoutModel",
      "model_module":"@jupyter-widgets\/base",
      "model_module_version":"1.2.0",
      "state":{}
     },
     "5de4eda08d8b4ceea949e52dd3f56f6e":{
      "model_name":"DescriptionStyleModel",
      "model_module":"@jupyter-widgets\/controls",
      "model_module_version":"1.5.0",
      "state":{
       "description_width":""
      }
     },
     "21aaf076e35549269130ed0c9ab10fed":{
      "model_name":"HTMLModel",
      "model_module":"@jupyter-widgets\/controls",
      "model_module_version":"1.5.0",
      "state":{
       "layout":"IPY_MODEL_c66069fcb47e43b2aa8eaddfe8561e7d",
       "style":"IPY_MODEL_5de4eda08d8b4ceea949e52dd3f56f6e",
       "value":" 456k\/456k [00:00&lt;00:00, 3.39MB\/s]"
      }
     },
     "5321c990c2254206b27cc36043d6b693":{
      "model_name":"LayoutModel",
      "model_module":"@jupyter-widgets\/base",
      "model_module_version":"1.2.0",
      "state":{}
     },
     "29e8c5b19b8647b8a3837a85874aca0f":{
      "model_name":"HBoxModel",
      "model_module":"@jupyter-widgets\/controls",
      "model_module_version":"1.5.0",
      "state":{
       "children":[
        "IPY_MODEL_8f72949c04344bd7b57ce143ee4fd7e9",
        "IPY_MODEL_c321409171f6473da6e5af5a60901035",
        "IPY_MODEL_21aaf076e35549269130ed0c9ab10fed"
       ],
       "layout":"IPY_MODEL_5321c990c2254206b27cc36043d6b693"
      }
     },
     "5f62697fe2874d9e9863d3ca7b53a608":{
      "model_name":"LayoutModel",
      "model_module":"@jupyter-widgets\/base",
      "model_module_version":"1.2.0",
      "state":{}
     },
     "ee8115fc81444779be155a56b207be6c":{
      "model_name":"DescriptionStyleModel",
      "model_module":"@jupyter-widgets\/controls",
      "model_module_version":"1.5.0",
      "state":{
       "description_width":""
      }
     },
     "5fecc26671c24fae830d9b04713bee76":{
      "model_name":"HTMLModel",
      "model_module":"@jupyter-widgets\/controls",
      "model_module_version":"1.5.0",
      "state":{
       "layout":"IPY_MODEL_5f62697fe2874d9e9863d3ca7b53a608",
       "style":"IPY_MODEL_ee8115fc81444779be155a56b207be6c",
       "value":"tokenizer.json: 100%"
      }
     },
     "85c23bba6a6a459f9684cb38b4dc1624":{
      "model_name":"LayoutModel",
      "model_module":"@jupyter-widgets\/base",
      "model_module_version":"1.2.0",
      "state":{}
     },
     "c252069123634d479e1614f265da04d7":{
      "model_name":"ProgressStyleModel",
      "model_module":"@jupyter-widgets\/controls",
      "model_module_version":"1.5.0",
      "state":{
       "description_width":""
      }
     },
     "e4c3c5d4db104f46a531cd09442124a2":{
      "model_name":"FloatProgressModel",
      "model_module":"@jupyter-widgets\/controls",
      "model_module_version":"1.5.0",
      "state":{
       "bar_style":"success",
       "layout":"IPY_MODEL_85c23bba6a6a459f9684cb38b4dc1624",
       "max":1355256,
       "style":"IPY_MODEL_c252069123634d479e1614f265da04d7",
       "value":1355256
      }
     },
     "5c745954168f47938eac25d4efb2890c":{
      "model_name":"LayoutModel",
      "model_module":"@jupyter-widgets\/base",
      "model_module_version":"1.2.0",
      "state":{}
     },
     "6f3f9dc44d15484c8860d2b9e92bfbf6":{
      "model_name":"DescriptionStyleModel",
      "model_module":"@jupyter-widgets\/controls",
      "model_module_version":"1.5.0",
      "state":{
       "description_width":""
      }
     },
     "aa84e120b60c4dd5b83efa407ee61a66":{
      "model_name":"HTMLModel",
      "model_module":"@jupyter-widgets\/controls",
      "model_module_version":"1.5.0",
      "state":{
       "layout":"IPY_MODEL_5c745954168f47938eac25d4efb2890c",
       "style":"IPY_MODEL_6f3f9dc44d15484c8860d2b9e92bfbf6",
       "value":" 1.36M\/1.36M [00:00&lt;00:00, 6.71MB\/s]"
      }
     },
     "9e3bdd47a79f4608adb00916be507cb9":{
      "model_name":"LayoutModel",
      "model_module":"@jupyter-widgets\/base",
      "model_module_version":"1.2.0",
      "state":{}
     },
     "15aeb05933014439b0b05ff565964304":{
      "model_name":"HBoxModel",
      "model_module":"@jupyter-widgets\/controls",
      "model_module_version":"1.5.0",
      "state":{
       "children":[
        "IPY_MODEL_5fecc26671c24fae830d9b04713bee76",
        "IPY_MODEL_e4c3c5d4db104f46a531cd09442124a2",
        "IPY_MODEL_aa84e120b60c4dd5b83efa407ee61a66"
       ],
       "layout":"IPY_MODEL_9e3bdd47a79f4608adb00916be507cb9"
      }
     },
     "e1dfa71ccd4f4fb08db7e39cd9323828":{
      "model_name":"LayoutModel",
      "model_module":"@jupyter-widgets\/base",
      "model_module_version":"1.2.0",
      "state":{}
     },
     "372f5c0a346148ceb4a74c0d36159903":{
      "model_name":"DescriptionStyleModel",
      "model_module":"@jupyter-widgets\/controls",
      "model_module_version":"1.5.0",
      "state":{
       "description_width":""
      }
     },
     "5f41a512f3694028952a429aad091f37":{
      "model_name":"HTMLModel",
      "model_module":"@jupyter-widgets\/controls",
      "model_module_version":"1.5.0",
      "state":{
       "layout":"IPY_MODEL_e1dfa71ccd4f4fb08db7e39cd9323828",
       "style":"IPY_MODEL_372f5c0a346148ceb4a74c0d36159903",
       "value":"Map: 100%"
      }
     },
     "0964eead5637451eaa13fccd3932bd06":{
      "model_name":"LayoutModel",
      "model_module":"@jupyter-widgets\/base",
      "model_module_version":"1.2.0",
      "state":{}
     },
     "fc9ae40ffc1a4684a6b2b6fa104194e9":{
      "model_name":"ProgressStyleModel",
      "model_module":"@jupyter-widgets\/controls",
      "model_module_version":"1.5.0",
      "state":{
       "description_width":""
      }
     },
     "e074a3189d3d4bdca427d4ae0d7b7791":{
      "model_name":"FloatProgressModel",
      "model_module":"@jupyter-widgets\/controls",
      "model_module_version":"1.5.0",
      "state":{
       "bar_style":"success",
       "layout":"IPY_MODEL_0964eead5637451eaa13fccd3932bd06",
       "max":5000,
       "style":"IPY_MODEL_fc9ae40ffc1a4684a6b2b6fa104194e9",
       "value":5000
      }
     },
     "f5637a68fa284312b727e477f05b7150":{
      "model_name":"LayoutModel",
      "model_module":"@jupyter-widgets\/base",
      "model_module_version":"1.2.0",
      "state":{}
     },
     "0bfd1c3d13eb48949e1182760dc3cbea":{
      "model_name":"DescriptionStyleModel",
      "model_module":"@jupyter-widgets\/controls",
      "model_module_version":"1.5.0",
      "state":{
       "description_width":""
      }
     },
     "0ccd58e2e985469e9a2cda15ca96e26e":{
      "model_name":"HTMLModel",
      "model_module":"@jupyter-widgets\/controls",
      "model_module_version":"1.5.0",
      "state":{
       "layout":"IPY_MODEL_f5637a68fa284312b727e477f05b7150",
       "style":"IPY_MODEL_0bfd1c3d13eb48949e1182760dc3cbea",
       "value":" 5000\/5000 [00:03&lt;00:00, 1453.06 examples\/s]"
      }
     },
     "214be24e281b44649358f6aed8a52c50":{
      "model_name":"LayoutModel",
      "model_module":"@jupyter-widgets\/base",
      "model_module_version":"1.2.0",
      "state":{}
     },
     "600e2113b207483a82f8c940ef7a1a6d":{
      "model_name":"HBoxModel",
      "model_module":"@jupyter-widgets\/controls",
      "model_module_version":"1.5.0",
      "state":{
       "children":[
        "IPY_MODEL_5f41a512f3694028952a429aad091f37",
        "IPY_MODEL_e074a3189d3d4bdca427d4ae0d7b7791",
        "IPY_MODEL_0ccd58e2e985469e9a2cda15ca96e26e"
       ],
       "layout":"IPY_MODEL_214be24e281b44649358f6aed8a52c50"
      }
     },
     "0805bb2a64ab4d978ae1d7c107c0c405":{
      "model_name":"LayoutModel",
      "model_module":"@jupyter-widgets\/base",
      "model_module_version":"1.2.0",
      "state":{}
     },
     "5abde0697d8749d89684fd2d16ccd3f4":{
      "model_name":"DescriptionStyleModel",
      "model_module":"@jupyter-widgets\/controls",
      "model_module_version":"1.5.0",
      "state":{
       "description_width":""
      }
     },
     "c780f74bd95b4d12b84cc22bad5cdbae":{
      "model_name":"HTMLModel",
      "model_module":"@jupyter-widgets\/controls",
      "model_module_version":"1.5.0",
      "state":{
       "layout":"IPY_MODEL_0805bb2a64ab4d978ae1d7c107c0c405",
       "style":"IPY_MODEL_5abde0697d8749d89684fd2d16ccd3f4",
       "value":"Map: 100%"
      }
     },
     "fb915ec340d748bca20133cc42211b67":{
      "model_name":"LayoutModel",
      "model_module":"@jupyter-widgets\/base",
      "model_module_version":"1.2.0",
      "state":{}
     },
     "a012f26763d347f2b4485a953329f755":{
      "model_name":"ProgressStyleModel",
      "model_module":"@jupyter-widgets\/controls",
      "model_module_version":"1.5.0",
      "state":{
       "description_width":""
      }
     },
     "472bae19ea7843a78e73bd99861c50fc":{
      "model_name":"FloatProgressModel",
      "model_module":"@jupyter-widgets\/controls",
      "model_module_version":"1.5.0",
      "state":{
       "bar_style":"success",
       "layout":"IPY_MODEL_fb915ec340d748bca20133cc42211b67",
       "max":5000,
       "style":"IPY_MODEL_a012f26763d347f2b4485a953329f755",
       "value":5000
      }
     },
     "a6f0a72245c544dbae7d97b05ccebed0":{
      "model_name":"LayoutModel",
      "model_module":"@jupyter-widgets\/base",
      "model_module_version":"1.2.0",
      "state":{}
     },
     "6ac4a2c4a0e74d3fa7d3ab58f07fbd98":{
      "model_name":"DescriptionStyleModel",
      "model_module":"@jupyter-widgets\/controls",
      "model_module_version":"1.5.0",
      "state":{
       "description_width":""
      }
     },
     "3b0744ef19e7420a8cbbb4b5c81012bb":{
      "model_name":"HTMLModel",
      "model_module":"@jupyter-widgets\/controls",
      "model_module_version":"1.5.0",
      "state":{
       "layout":"IPY_MODEL_a6f0a72245c544dbae7d97b05ccebed0",
       "style":"IPY_MODEL_6ac4a2c4a0e74d3fa7d3ab58f07fbd98",
       "value":" 5000\/5000 [00:03&lt;00:00, 1457.46 examples\/s]"
      }
     },
     "d66fefdabb12479db322932c32c48b47":{
      "model_name":"LayoutModel",
      "model_module":"@jupyter-widgets\/base",
      "model_module_version":"1.2.0",
      "state":{}
     },
     "cddf097b13b449b0973f16acb8b8e450":{
      "model_name":"HBoxModel",
      "model_module":"@jupyter-widgets\/controls",
      "model_module_version":"1.5.0",
      "state":{
       "children":[
        "IPY_MODEL_c780f74bd95b4d12b84cc22bad5cdbae",
        "IPY_MODEL_472bae19ea7843a78e73bd99861c50fc",
        "IPY_MODEL_3b0744ef19e7420a8cbbb4b5c81012bb"
       ],
       "layout":"IPY_MODEL_d66fefdabb12479db322932c32c48b47"
      }
     },
     "200ec3940892488f961ed704eda11166":{
      "model_name":"LayoutModel",
      "model_module":"@jupyter-widgets\/base",
      "model_module_version":"1.2.0",
      "state":{}
     },
     "def3858c3080432c9fe4dbb4dbb53764":{
      "model_name":"DescriptionStyleModel",
      "model_module":"@jupyter-widgets\/controls",
      "model_module_version":"1.5.0",
      "state":{
       "description_width":""
      }
     },
     "f5084922bde24be9a81af990e2728e6f":{
      "model_name":"HTMLModel",
      "model_module":"@jupyter-widgets\/controls",
      "model_module_version":"1.5.0",
      "state":{
       "layout":"IPY_MODEL_200ec3940892488f961ed704eda11166",
       "style":"IPY_MODEL_def3858c3080432c9fe4dbb4dbb53764",
       "value":"model.safetensors: 100%"
      }
     },
     "b759d610c3984663bfff5376e120ce27":{
      "model_name":"LayoutModel",
      "model_module":"@jupyter-widgets\/base",
      "model_module_version":"1.2.0",
      "state":{}
     },
     "7a4f9117728f45768d0f8a60cacc6137":{
      "model_name":"ProgressStyleModel",
      "model_module":"@jupyter-widgets\/controls",
      "model_module_version":"1.5.0",
      "state":{
       "description_width":""
      }
     },
     "073a4db85f9844d2b30839eea13e4f87":{
      "model_name":"FloatProgressModel",
      "model_module":"@jupyter-widgets\/controls",
      "model_module_version":"1.5.0",
      "state":{
       "bar_style":"success",
       "layout":"IPY_MODEL_b759d610c3984663bfff5376e120ce27",
       "max":548105171,
       "style":"IPY_MODEL_7a4f9117728f45768d0f8a60cacc6137",
       "value":548105171
      }
     },
     "386317deb6cc48fa8146641fdaa063ce":{
      "model_name":"LayoutModel",
      "model_module":"@jupyter-widgets\/base",
      "model_module_version":"1.2.0",
      "state":{}
     },
     "85b707b4ead343828813c92d9b1c3719":{
      "model_name":"DescriptionStyleModel",
      "model_module":"@jupyter-widgets\/controls",
      "model_module_version":"1.5.0",
      "state":{
       "description_width":""
      }
     },
     "8541b26727ba4f1091dfd574690cd675":{
      "model_name":"HTMLModel",
      "model_module":"@jupyter-widgets\/controls",
      "model_module_version":"1.5.0",
      "state":{
       "layout":"IPY_MODEL_386317deb6cc48fa8146641fdaa063ce",
       "style":"IPY_MODEL_85b707b4ead343828813c92d9b1c3719",
       "value":" 548M\/548M [00:02&lt;00:00, 240MB\/s]"
      }
     },
     "5297a1c9ede94a86853b33a753abb718":{
      "model_name":"LayoutModel",
      "model_module":"@jupyter-widgets\/base",
      "model_module_version":"1.2.0",
      "state":{}
     },
     "fc5e00e769f147cd98928d7ab73047ca":{
      "model_name":"HBoxModel",
      "model_module":"@jupyter-widgets\/controls",
      "model_module_version":"1.5.0",
      "state":{
       "children":[
        "IPY_MODEL_f5084922bde24be9a81af990e2728e6f",
        "IPY_MODEL_073a4db85f9844d2b30839eea13e4f87",
        "IPY_MODEL_8541b26727ba4f1091dfd574690cd675"
       ],
       "layout":"IPY_MODEL_5297a1c9ede94a86853b33a753abb718"
      }
     },
     "5e821cdffb2a44df9d5785690b258f2b":{
      "model_name":"LayoutModel",
      "model_module":"@jupyter-widgets\/base",
      "model_module_version":"1.2.0",
      "state":{}
     },
     "c0caf642e771448c84d432b5704384a5":{
      "model_name":"DescriptionStyleModel",
      "model_module":"@jupyter-widgets\/controls",
      "model_module_version":"1.5.0",
      "state":{
       "description_width":""
      }
     },
     "68ccecd8357c4d6daed77a74155b6d3c":{
      "model_name":"HTMLModel",
      "model_module":"@jupyter-widgets\/controls",
      "model_module_version":"1.5.0",
      "state":{
       "layout":"IPY_MODEL_5e821cdffb2a44df9d5785690b258f2b",
       "style":"IPY_MODEL_c0caf642e771448c84d432b5704384a5",
       "value":"Downloading builder script: 100%"
      }
     },
     "e4ba52bf9d0e4c959c234644cfcbd759":{
      "model_name":"LayoutModel",
      "model_module":"@jupyter-widgets\/base",
      "model_module_version":"1.2.0",
      "state":{}
     },
     "d9823616730a42b1be39b78a0b904244":{
      "model_name":"ProgressStyleModel",
      "model_module":"@jupyter-widgets\/controls",
      "model_module_version":"1.5.0",
      "state":{
       "description_width":""
      }
     },
     "62e3365528764510916cef781dfc09ff":{
      "model_name":"FloatProgressModel",
      "model_module":"@jupyter-widgets\/controls",
      "model_module_version":"1.5.0",
      "state":{
       "bar_style":"success",
       "layout":"IPY_MODEL_e4ba52bf9d0e4c959c234644cfcbd759",
       "max":4203,
       "style":"IPY_MODEL_d9823616730a42b1be39b78a0b904244",
       "value":4203
      }
     },
     "0f44ccd9c118458f850ca8feb50dc4cf":{
      "model_name":"LayoutModel",
      "model_module":"@jupyter-widgets\/base",
      "model_module_version":"1.2.0",
      "state":{}
     },
     "36f4d0815d074cc4ae3a3f9a8d00f9df":{
      "model_name":"DescriptionStyleModel",
      "model_module":"@jupyter-widgets\/controls",
      "model_module_version":"1.5.0",
      "state":{
       "description_width":""
      }
     },
     "3dab2529765d4d609084f21a0f7dc54e":{
      "model_name":"HTMLModel",
      "model_module":"@jupyter-widgets\/controls",
      "model_module_version":"1.5.0",
      "state":{
       "layout":"IPY_MODEL_0f44ccd9c118458f850ca8feb50dc4cf",
       "style":"IPY_MODEL_36f4d0815d074cc4ae3a3f9a8d00f9df",
       "value":" 4.20k\/4.20k [00:00&lt;00:00, 337kB\/s]"
      }
     },
     "4c07f6a7443d49bdaba9fa03d01b00d2":{
      "model_name":"LayoutModel",
      "model_module":"@jupyter-widgets\/base",
      "model_module_version":"1.2.0",
      "state":{}
     },
     "a5e52efd0b89408da7fa29515fdda86f":{
      "model_name":"HBoxModel",
      "model_module":"@jupyter-widgets\/controls",
      "model_module_version":"1.5.0",
      "state":{
       "children":[
        "IPY_MODEL_68ccecd8357c4d6daed77a74155b6d3c",
        "IPY_MODEL_62e3365528764510916cef781dfc09ff",
        "IPY_MODEL_3dab2529765d4d609084f21a0f7dc54e"
       ],
       "layout":"IPY_MODEL_4c07f6a7443d49bdaba9fa03d01b00d2"
      }
     }
    }
   }
  },
  "kernelspec":{
   "display_name":"Python",
   "language":"python",
   "name":"python"
  },
  "datalore":{
   "computation_mode":"JUPYTER",
   "package_manager":"pip",
   "base_environment":"default",
   "packages":[],
   "report_row_ids":[
    "WLSSpHZaUcp8VCw6l5FiyD",
    "i6TGcMPGN3j1584FVc0qGv",
    "fMjgTsYed2TN83pasTdax1",
    "x160tNxrzWY6tmL3uUzwIX",
    "d2rnld4Px0MFXCVHRdfeKo",
    "R96BjpEc1mXdxjVzHJMwka",
    "p4FDZJgyfQI442ES8a8m5q",
    "C3twHYPComsxcb1inhfiN8",
    "wLTXGZk4kKzFYXIsseXDwC",
    "SEg0UmkHS1g1XE54mglPU2",
    "hgSJiyxaTipBfgOtExMTYF",
    "DR4ZNQX0pwuGzSrfT9s7dI",
    "TXVWb34xtTD97DTEFZ9iok",
    "U55atS3Zp0bvARNcMfbdcB",
    "0dFXxpzlfM3zAUsCasIZVg",
    "r2ACeNlkNgB8TZkNUGiBxF",
    "MU9ub9RdA6i7Ygrp4Ru89u",
    "tT5QFcjIs3Eg0o6SxgWYhs",
    "gjzV0iD83AnL5zpQimha8w",
    "HklSUSF4GDrlKCa2Zu1Ws9",
    "rJWoI8sOfX3rrMVyAesS6g",
    "4zdEoCRtX2zWCFOkEht2gi",
    "WdnQcgtHyxZlE1vcfGKlGf",
    "uOMl880TDI1yauK5GmP6k8",
    "bED14VYVaZxcQg1Mz1pPbz",
    "gtyBm4WiCnuF7rv8GyE5EH",
    "1uP12Q9jkLc4IeUwW1wyn7",
    "Q5NbJawXvLUAhzEkgJO6Gu",
    "H8B7FOTL3EmVu0XNEbmtQJ",
    "FuPp65CVGR0BPQW9ZIEFbh",
    "vDhjxBPyPbJeB3XTNl9d32",
    "hyyCIs4WnEpbjhypcMhDf4",
    "ljOk9vRIqYGwRMAwUvMiAX",
    "6uIpWCEyJ4UQUlBDX4aEj0",
    "4RVr0oVyBCDmp9XiISoxEa"
   ],
   "version":3
  }
 },
 "nbformat":4,
 "nbformat_minor":4
}